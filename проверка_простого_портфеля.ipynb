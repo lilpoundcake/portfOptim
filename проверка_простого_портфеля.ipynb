{
  "nbformat": 4,
  "nbformat_minor": 0,
  "metadata": {
    "colab": {
      "name": "проверка простого портфеля.ipynb",
      "provenance": [],
      "collapsed_sections": [],
      "toc_visible": true,
      "authorship_tag": "ABX9TyPCX9brNSEG5nhaQEf7VSEL",
      "include_colab_link": true
    },
    "kernelspec": {
      "name": "python3",
      "display_name": "Python 3"
    }
  },
  "cells": [
    {
      "cell_type": "markdown",
      "metadata": {
        "id": "view-in-github",
        "colab_type": "text"
      },
      "source": [
        "<a href=\"https://colab.research.google.com/github/prog815/portfOptim/blob/master/%D0%BF%D1%80%D0%BE%D0%B2%D0%B5%D1%80%D0%BA%D0%B0_%D0%BF%D1%80%D0%BE%D1%81%D1%82%D0%BE%D0%B3%D0%BE_%D0%BF%D0%BE%D1%80%D1%82%D1%84%D0%B5%D0%BB%D1%8F.ipynb\" target=\"_parent\"><img src=\"https://colab.research.google.com/assets/colab-badge.svg\" alt=\"Open In Colab\"/></a>"
      ]
    },
    {
      "cell_type": "markdown",
      "metadata": {
        "id": "cvBa34sKFvni",
        "colab_type": "text"
      },
      "source": [
        "# Проверка простого портфеля\n",
        "\n",
        "Проект \"Оптимизация инвестиционного портфеля\".\n",
        "\n",
        "https://github.com/prog815/portfOptim\n",
        "\n",
        "Енин А.В.\n",
        "\n",
        "Оренбург - 2020\n",
        "\n",
        "10.09.2020\n",
        "\n",
        "Проверяем метод оптимизации на длительном периоде."
      ]
    },
    {
      "cell_type": "markdown",
      "metadata": {
        "id": "2W2gBmIrBOSx",
        "colab_type": "text"
      },
      "source": [
        "В предыдущих экспериментах [Оптимизация инвестиционного портфеля по методу Марковица](https://github.com/prog815/portfOptim/blob/master/%D0%BF%D1%80%D0%BE%D1%81%D1%82%D0%BE%D0%B9_%D0%BF%D0%BE%D1%80%D1%82%D1%84%D0%B5%D0%BB%D1%8C.ipynb) и [Оптимизация инвестиционного портфеля по методу Марковица (с библиотекой)](https://github.com/prog815/portfOptim/blob/master/%D0%BF%D1%80%D0%BE%D1%81%D1%82%D0%BE%D0%B9_%D0%BF%D0%BE%D1%80%D1%82%D1%84%D0%B5%D0%BB%D1%8C_(%D1%81_%D0%B1%D0%B8%D0%B1%D0%BB%D0%B8%D0%BE%D1%82%D0%B5%D0%BA%D0%BE%D0%B9.ipynb) отработали технологию получения оптимального портфеля и оформили это в виде библиотеки для удобного использования.\n",
        "\n",
        "В настоящем эксперименте будем смотреть применение на длительном временном участке применение данной технолгии."
      ]
    },
    {
      "cell_type": "markdown",
      "metadata": {
        "id": "Vz4u0Y3WJsyI",
        "colab_type": "text"
      },
      "source": [
        "## Опубликовано\n",
        "\n",
        "Опубликовано на [GitHub](https://github.com/prog815/portfOptim/blob/master/%D0%BF%D1%80%D0%BE%D0%B2%D0%B5%D1%80%D0%BA%D0%B0_%D0%BF%D1%80%D0%BE%D1%81%D1%82%D0%BE%D0%B3%D0%BE_%D0%BF%D0%BE%D1%80%D1%82%D1%84%D0%B5%D0%BB%D1%8F.ipynb), [VC](), [Google.Docs](https://docs.google.com/document/d/1PJnGxN9_6_95QVzMGGRKXpPZMNrJqxjQwCb1_WL2IDU/edit?usp=sharing), [Habr](), [VK](), [OK](), [FB](), [Telegram]()"
      ]
    },
    {
      "cell_type": "markdown",
      "metadata": {
        "id": "bYhb-_1il1T_",
        "colab_type": "text"
      },
      "source": [
        "# Загрузка данных по котировкам\n",
        "Используем данные с сервиса [Yahoo.Finance](https://finance.yahoo.com/most-active)"
      ]
    },
    {
      "cell_type": "code",
      "metadata": {
        "id": "-GrPIGUSnKLo",
        "colab_type": "code",
        "colab": {
          "base_uri": "https://localhost:8080/",
          "height": 357
        },
        "outputId": "dff0af40-8a58-498b-ae86-6093cbdbcba9"
      },
      "source": [
        "! pip install yfinance"
      ],
      "execution_count": 1,
      "outputs": [
        {
          "output_type": "stream",
          "text": [
            "Collecting yfinance\n",
            "  Downloading https://files.pythonhosted.org/packages/c2/31/8b374a12b90def92a4e27d0fc595fc43635f395984e36a075244d98bd265/yfinance-0.1.54.tar.gz\n",
            "Requirement already satisfied: pandas>=0.24 in /usr/local/lib/python3.6/dist-packages (from yfinance) (1.0.5)\n",
            "Requirement already satisfied: numpy>=1.15 in /usr/local/lib/python3.6/dist-packages (from yfinance) (1.18.5)\n",
            "Requirement already satisfied: requests>=2.20 in /usr/local/lib/python3.6/dist-packages (from yfinance) (2.23.0)\n",
            "Requirement already satisfied: multitasking>=0.0.7 in /usr/local/lib/python3.6/dist-packages (from yfinance) (0.0.9)\n",
            "Requirement already satisfied: python-dateutil>=2.6.1 in /usr/local/lib/python3.6/dist-packages (from pandas>=0.24->yfinance) (2.8.1)\n",
            "Requirement already satisfied: pytz>=2017.2 in /usr/local/lib/python3.6/dist-packages (from pandas>=0.24->yfinance) (2018.9)\n",
            "Requirement already satisfied: chardet<4,>=3.0.2 in /usr/local/lib/python3.6/dist-packages (from requests>=2.20->yfinance) (3.0.4)\n",
            "Requirement already satisfied: urllib3!=1.25.0,!=1.25.1,<1.26,>=1.21.1 in /usr/local/lib/python3.6/dist-packages (from requests>=2.20->yfinance) (1.24.3)\n",
            "Requirement already satisfied: certifi>=2017.4.17 in /usr/local/lib/python3.6/dist-packages (from requests>=2.20->yfinance) (2020.6.20)\n",
            "Requirement already satisfied: idna<3,>=2.5 in /usr/local/lib/python3.6/dist-packages (from requests>=2.20->yfinance) (2.10)\n",
            "Requirement already satisfied: six>=1.5 in /usr/local/lib/python3.6/dist-packages (from python-dateutil>=2.6.1->pandas>=0.24->yfinance) (1.15.0)\n",
            "Building wheels for collected packages: yfinance\n",
            "  Building wheel for yfinance (setup.py) ... \u001b[?25l\u001b[?25hdone\n",
            "  Created wheel for yfinance: filename=yfinance-0.1.54-py2.py3-none-any.whl size=22409 sha256=0f71a0f5d257882f61e258523315c317d9314d39d32b9403f4d08f651b37c234\n",
            "  Stored in directory: /root/.cache/pip/wheels/f9/e3/5b/ec24dd2984b12d61e0abf26289746c2436a0e7844f26f2515c\n",
            "Successfully built yfinance\n",
            "Installing collected packages: yfinance\n",
            "Successfully installed yfinance-0.1.54\n"
          ],
          "name": "stdout"
        }
      ]
    },
    {
      "cell_type": "code",
      "metadata": {
        "id": "KW3o50JEnPA9",
        "colab_type": "code",
        "colab": {}
      },
      "source": [
        "import yfinance as yf"
      ],
      "execution_count": 2,
      "outputs": []
    },
    {
      "cell_type": "markdown",
      "metadata": {
        "id": "ywLJyECv1IHs",
        "colab_type": "text"
      },
      "source": [
        "Берем несколько акций американского рынка (см. https://finance.yahoo.com/most-active) за последние 5 лет."
      ]
    },
    {
      "cell_type": "code",
      "metadata": {
        "id": "3WQrbOmbn3mO",
        "colab_type": "code",
        "colab": {
          "base_uri": "https://localhost:8080/",
          "height": 34
        },
        "outputId": "3789af7a-d21e-4116-a3b8-8ffd9f37f103"
      },
      "source": [
        "data = yf.download(['AAPL','GE','BAC','AMD','PLUG','F'],period='5y')"
      ],
      "execution_count": 3,
      "outputs": [
        {
          "output_type": "stream",
          "text": [
            "[*********************100%***********************]  6 of 6 completed\n"
          ],
          "name": "stdout"
        }
      ]
    },
    {
      "cell_type": "markdown",
      "metadata": {
        "id": "uWkixYqVvM2Y",
        "colab_type": "text"
      },
      "source": [
        "# Курсы закрытия\n",
        "В расчетах будем использовать дневные курсы закрытия"
      ]
    },
    {
      "cell_type": "code",
      "metadata": {
        "id": "0fr_7teepRGP",
        "colab_type": "code",
        "colab": {
          "base_uri": "https://localhost:8080/",
          "height": 450
        },
        "outputId": "34ba3c58-1e4f-42a6-ff3a-b7be98b7ea45"
      },
      "source": [
        "closeData = data.Close\n",
        "closeData"
      ],
      "execution_count": 4,
      "outputs": [
        {
          "output_type": "execute_result",
          "data": {
            "text/html": [
              "<div>\n",
              "<style scoped>\n",
              "    .dataframe tbody tr th:only-of-type {\n",
              "        vertical-align: middle;\n",
              "    }\n",
              "\n",
              "    .dataframe tbody tr th {\n",
              "        vertical-align: top;\n",
              "    }\n",
              "\n",
              "    .dataframe thead th {\n",
              "        text-align: right;\n",
              "    }\n",
              "</style>\n",
              "<table border=\"1\" class=\"dataframe\">\n",
              "  <thead>\n",
              "    <tr style=\"text-align: right;\">\n",
              "      <th></th>\n",
              "      <th>AAPL</th>\n",
              "      <th>AMD</th>\n",
              "      <th>BAC</th>\n",
              "      <th>F</th>\n",
              "      <th>GE</th>\n",
              "      <th>PLUG</th>\n",
              "    </tr>\n",
              "    <tr>\n",
              "      <th>Date</th>\n",
              "      <th></th>\n",
              "      <th></th>\n",
              "      <th></th>\n",
              "      <th></th>\n",
              "      <th></th>\n",
              "      <th></th>\n",
              "    </tr>\n",
              "  </thead>\n",
              "  <tbody>\n",
              "    <tr>\n",
              "      <th>2015-09-11</th>\n",
              "      <td>28.552500</td>\n",
              "      <td>2.010000</td>\n",
              "      <td>16.040001</td>\n",
              "      <td>13.71</td>\n",
              "      <td>23.990385</td>\n",
              "      <td>1.70</td>\n",
              "    </tr>\n",
              "    <tr>\n",
              "      <th>2015-09-14</th>\n",
              "      <td>28.827499</td>\n",
              "      <td>1.820000</td>\n",
              "      <td>15.960000</td>\n",
              "      <td>13.78</td>\n",
              "      <td>23.817308</td>\n",
              "      <td>1.68</td>\n",
              "    </tr>\n",
              "    <tr>\n",
              "      <th>2015-09-15</th>\n",
              "      <td>29.070000</td>\n",
              "      <td>1.860000</td>\n",
              "      <td>16.309999</td>\n",
              "      <td>14.31</td>\n",
              "      <td>24.326923</td>\n",
              "      <td>1.69</td>\n",
              "    </tr>\n",
              "    <tr>\n",
              "      <th>2015-09-16</th>\n",
              "      <td>29.102501</td>\n",
              "      <td>1.890000</td>\n",
              "      <td>16.330000</td>\n",
              "      <td>14.64</td>\n",
              "      <td>24.932692</td>\n",
              "      <td>1.71</td>\n",
              "    </tr>\n",
              "    <tr>\n",
              "      <th>2015-09-17</th>\n",
              "      <td>28.480000</td>\n",
              "      <td>1.890000</td>\n",
              "      <td>15.860000</td>\n",
              "      <td>14.60</td>\n",
              "      <td>24.375000</td>\n",
              "      <td>1.78</td>\n",
              "    </tr>\n",
              "    <tr>\n",
              "      <th>...</th>\n",
              "      <td>...</td>\n",
              "      <td>...</td>\n",
              "      <td>...</td>\n",
              "      <td>...</td>\n",
              "      <td>...</td>\n",
              "      <td>...</td>\n",
              "    </tr>\n",
              "    <tr>\n",
              "      <th>2020-09-03</th>\n",
              "      <td>120.879997</td>\n",
              "      <td>82.540001</td>\n",
              "      <td>25.660000</td>\n",
              "      <td>6.82</td>\n",
              "      <td>6.320000</td>\n",
              "      <td>11.55</td>\n",
              "    </tr>\n",
              "    <tr>\n",
              "      <th>2020-09-04</th>\n",
              "      <td>120.959999</td>\n",
              "      <td>82.010002</td>\n",
              "      <td>26.540001</td>\n",
              "      <td>6.90</td>\n",
              "      <td>6.420000</td>\n",
              "      <td>11.76</td>\n",
              "    </tr>\n",
              "    <tr>\n",
              "      <th>2020-09-08</th>\n",
              "      <td>112.820000</td>\n",
              "      <td>78.690002</td>\n",
              "      <td>25.480000</td>\n",
              "      <td>7.03</td>\n",
              "      <td>6.140000</td>\n",
              "      <td>11.73</td>\n",
              "    </tr>\n",
              "    <tr>\n",
              "      <th>2020-09-09</th>\n",
              "      <td>117.320000</td>\n",
              "      <td>81.910004</td>\n",
              "      <td>25.510000</td>\n",
              "      <td>6.97</td>\n",
              "      <td>6.160000</td>\n",
              "      <td>12.13</td>\n",
              "    </tr>\n",
              "    <tr>\n",
              "      <th>2020-09-10</th>\n",
              "      <td>113.489998</td>\n",
              "      <td>78.980003</td>\n",
              "      <td>25.139999</td>\n",
              "      <td>6.91</td>\n",
              "      <td>6.000000</td>\n",
              "      <td>12.12</td>\n",
              "    </tr>\n",
              "  </tbody>\n",
              "</table>\n",
              "<p>1259 rows × 6 columns</p>\n",
              "</div>"
            ],
            "text/plain": [
              "                  AAPL        AMD        BAC      F         GE   PLUG\n",
              "Date                                                                 \n",
              "2015-09-11   28.552500   2.010000  16.040001  13.71  23.990385   1.70\n",
              "2015-09-14   28.827499   1.820000  15.960000  13.78  23.817308   1.68\n",
              "2015-09-15   29.070000   1.860000  16.309999  14.31  24.326923   1.69\n",
              "2015-09-16   29.102501   1.890000  16.330000  14.64  24.932692   1.71\n",
              "2015-09-17   28.480000   1.890000  15.860000  14.60  24.375000   1.78\n",
              "...                ...        ...        ...    ...        ...    ...\n",
              "2020-09-03  120.879997  82.540001  25.660000   6.82   6.320000  11.55\n",
              "2020-09-04  120.959999  82.010002  26.540001   6.90   6.420000  11.76\n",
              "2020-09-08  112.820000  78.690002  25.480000   7.03   6.140000  11.73\n",
              "2020-09-09  117.320000  81.910004  25.510000   6.97   6.160000  12.13\n",
              "2020-09-10  113.489998  78.980003  25.139999   6.91   6.000000  12.12\n",
              "\n",
              "[1259 rows x 6 columns]"
            ]
          },
          "metadata": {
            "tags": []
          },
          "execution_count": 4
        }
      ]
    },
    {
      "cell_type": "markdown",
      "metadata": {
        "id": "Unuf8CdYmAYu",
        "colab_type": "text"
      },
      "source": [
        "# Изменение курсов\n",
        "Далее понадобятся относительные изменения к предыдущему дню."
      ]
    },
    {
      "cell_type": "code",
      "metadata": {
        "id": "RyQ2Il2krLBA",
        "colab_type": "code",
        "colab": {
          "base_uri": "https://localhost:8080/",
          "height": 450
        },
        "outputId": "38edb8a0-2aac-4f9d-fdba-74847afecfa2"
      },
      "source": [
        "dCloseData = closeData.pct_change()\n",
        "dCloseData"
      ],
      "execution_count": 5,
      "outputs": [
        {
          "output_type": "execute_result",
          "data": {
            "text/html": [
              "<div>\n",
              "<style scoped>\n",
              "    .dataframe tbody tr th:only-of-type {\n",
              "        vertical-align: middle;\n",
              "    }\n",
              "\n",
              "    .dataframe tbody tr th {\n",
              "        vertical-align: top;\n",
              "    }\n",
              "\n",
              "    .dataframe thead th {\n",
              "        text-align: right;\n",
              "    }\n",
              "</style>\n",
              "<table border=\"1\" class=\"dataframe\">\n",
              "  <thead>\n",
              "    <tr style=\"text-align: right;\">\n",
              "      <th></th>\n",
              "      <th>AAPL</th>\n",
              "      <th>AMD</th>\n",
              "      <th>BAC</th>\n",
              "      <th>F</th>\n",
              "      <th>GE</th>\n",
              "      <th>PLUG</th>\n",
              "    </tr>\n",
              "    <tr>\n",
              "      <th>Date</th>\n",
              "      <th></th>\n",
              "      <th></th>\n",
              "      <th></th>\n",
              "      <th></th>\n",
              "      <th></th>\n",
              "      <th></th>\n",
              "    </tr>\n",
              "  </thead>\n",
              "  <tbody>\n",
              "    <tr>\n",
              "      <th>2015-09-11</th>\n",
              "      <td>NaN</td>\n",
              "      <td>NaN</td>\n",
              "      <td>NaN</td>\n",
              "      <td>NaN</td>\n",
              "      <td>NaN</td>\n",
              "      <td>NaN</td>\n",
              "    </tr>\n",
              "    <tr>\n",
              "      <th>2015-09-14</th>\n",
              "      <td>0.009631</td>\n",
              "      <td>-0.094527</td>\n",
              "      <td>-0.004988</td>\n",
              "      <td>0.005106</td>\n",
              "      <td>-0.007214</td>\n",
              "      <td>-0.011765</td>\n",
              "    </tr>\n",
              "    <tr>\n",
              "      <th>2015-09-15</th>\n",
              "      <td>0.008412</td>\n",
              "      <td>0.021978</td>\n",
              "      <td>0.021930</td>\n",
              "      <td>0.038462</td>\n",
              "      <td>0.021397</td>\n",
              "      <td>0.005952</td>\n",
              "    </tr>\n",
              "    <tr>\n",
              "      <th>2015-09-16</th>\n",
              "      <td>0.001118</td>\n",
              "      <td>0.016129</td>\n",
              "      <td>0.001226</td>\n",
              "      <td>0.023061</td>\n",
              "      <td>0.024901</td>\n",
              "      <td>0.011834</td>\n",
              "    </tr>\n",
              "    <tr>\n",
              "      <th>2015-09-17</th>\n",
              "      <td>-0.021390</td>\n",
              "      <td>0.000000</td>\n",
              "      <td>-0.028781</td>\n",
              "      <td>-0.002732</td>\n",
              "      <td>-0.022368</td>\n",
              "      <td>0.040936</td>\n",
              "    </tr>\n",
              "    <tr>\n",
              "      <th>...</th>\n",
              "      <td>...</td>\n",
              "      <td>...</td>\n",
              "      <td>...</td>\n",
              "      <td>...</td>\n",
              "      <td>...</td>\n",
              "      <td>...</td>\n",
              "    </tr>\n",
              "    <tr>\n",
              "      <th>2020-09-03</th>\n",
              "      <td>-0.080061</td>\n",
              "      <td>-0.085125</td>\n",
              "      <td>-0.013836</td>\n",
              "      <td>-0.018705</td>\n",
              "      <td>-0.018634</td>\n",
              "      <td>-0.121005</td>\n",
              "    </tr>\n",
              "    <tr>\n",
              "      <th>2020-09-04</th>\n",
              "      <td>0.000662</td>\n",
              "      <td>-0.006421</td>\n",
              "      <td>0.034295</td>\n",
              "      <td>0.011730</td>\n",
              "      <td>0.015823</td>\n",
              "      <td>0.018182</td>\n",
              "    </tr>\n",
              "    <tr>\n",
              "      <th>2020-09-08</th>\n",
              "      <td>-0.067295</td>\n",
              "      <td>-0.040483</td>\n",
              "      <td>-0.039940</td>\n",
              "      <td>0.018841</td>\n",
              "      <td>-0.043614</td>\n",
              "      <td>-0.002551</td>\n",
              "    </tr>\n",
              "    <tr>\n",
              "      <th>2020-09-09</th>\n",
              "      <td>0.039887</td>\n",
              "      <td>0.040920</td>\n",
              "      <td>0.001177</td>\n",
              "      <td>-0.008535</td>\n",
              "      <td>0.003257</td>\n",
              "      <td>0.034101</td>\n",
              "    </tr>\n",
              "    <tr>\n",
              "      <th>2020-09-10</th>\n",
              "      <td>-0.032646</td>\n",
              "      <td>-0.035771</td>\n",
              "      <td>-0.014504</td>\n",
              "      <td>-0.008608</td>\n",
              "      <td>-0.025974</td>\n",
              "      <td>-0.000824</td>\n",
              "    </tr>\n",
              "  </tbody>\n",
              "</table>\n",
              "<p>1259 rows × 6 columns</p>\n",
              "</div>"
            ],
            "text/plain": [
              "                AAPL       AMD       BAC         F        GE      PLUG\n",
              "Date                                                                  \n",
              "2015-09-11       NaN       NaN       NaN       NaN       NaN       NaN\n",
              "2015-09-14  0.009631 -0.094527 -0.004988  0.005106 -0.007214 -0.011765\n",
              "2015-09-15  0.008412  0.021978  0.021930  0.038462  0.021397  0.005952\n",
              "2015-09-16  0.001118  0.016129  0.001226  0.023061  0.024901  0.011834\n",
              "2015-09-17 -0.021390  0.000000 -0.028781 -0.002732 -0.022368  0.040936\n",
              "...              ...       ...       ...       ...       ...       ...\n",
              "2020-09-03 -0.080061 -0.085125 -0.013836 -0.018705 -0.018634 -0.121005\n",
              "2020-09-04  0.000662 -0.006421  0.034295  0.011730  0.015823  0.018182\n",
              "2020-09-08 -0.067295 -0.040483 -0.039940  0.018841 -0.043614 -0.002551\n",
              "2020-09-09  0.039887  0.040920  0.001177 -0.008535  0.003257  0.034101\n",
              "2020-09-10 -0.032646 -0.035771 -0.014504 -0.008608 -0.025974 -0.000824\n",
              "\n",
              "[1259 rows x 6 columns]"
            ]
          },
          "metadata": {
            "tags": []
          },
          "execution_count": 5
        }
      ]
    },
    {
      "cell_type": "markdown",
      "metadata": {
        "id": "TYj9tT8w_LP6",
        "colab_type": "text"
      },
      "source": [
        "# Подгружаем библиотеку"
      ]
    },
    {
      "cell_type": "code",
      "metadata": {
        "id": "FDuoMu39_tyI",
        "colab_type": "code",
        "colab": {
          "base_uri": "https://localhost:8080/",
          "height": 187
        },
        "outputId": "f8016797-cc43-47aa-cb0c-15b90bbe4135"
      },
      "source": [
        "! pip install git+https://github.com/prog815/portfOptim"
      ],
      "execution_count": 6,
      "outputs": [
        {
          "output_type": "stream",
          "text": [
            "Collecting git+https://github.com/prog815/portfOptim\n",
            "  Cloning https://github.com/prog815/portfOptim to /tmp/pip-req-build-2mcw7oy5\n",
            "  Running command git clone -q https://github.com/prog815/portfOptim /tmp/pip-req-build-2mcw7oy5\n",
            "Building wheels for collected packages: portfOptim\n",
            "  Building wheel for portfOptim (setup.py) ... \u001b[?25l\u001b[?25hdone\n",
            "  Created wheel for portfOptim: filename=portfOptim-0.0.4-cp36-none-any.whl size=3438 sha256=65686219ce9198926df5ddab850d68337599816f5bebe91f28f82938c28c3271\n",
            "  Stored in directory: /tmp/pip-ephem-wheel-cache-zfrrsez8/wheels/ef/8b/25/89eadb83696c6f13f7c19550677e232c32182db7884471ca86\n",
            "Successfully built portfOptim\n",
            "Installing collected packages: portfOptim\n",
            "Successfully installed portfOptim-0.0.4\n"
          ],
          "name": "stdout"
        }
      ]
    },
    {
      "cell_type": "code",
      "metadata": {
        "id": "g192AD79_wio",
        "colab_type": "code",
        "colab": {}
      },
      "source": [
        "import portfOptim"
      ],
      "execution_count": 7,
      "outputs": []
    },
    {
      "cell_type": "code",
      "metadata": {
        "id": "4IIsrg02zuT1",
        "colab_type": "code",
        "colab": {
          "base_uri": "https://localhost:8080/",
          "height": 34
        },
        "outputId": "70b2e306-013a-44a4-8381-02c71628662b"
      },
      "source": [
        "dCloseData.index[1]"
      ],
      "execution_count": 8,
      "outputs": [
        {
          "output_type": "execute_result",
          "data": {
            "text/plain": [
              "Timestamp('2015-09-14 00:00:00')"
            ]
          },
          "metadata": {
            "tags": []
          },
          "execution_count": 8
        }
      ]
    },
    {
      "cell_type": "markdown",
      "metadata": {
        "id": "3qibG2DIDy-7",
        "colab_type": "text"
      },
      "source": [
        "# Расчет"
      ]
    },
    {
      "cell_type": "code",
      "metadata": {
        "id": "DK4yuwZHC3oY",
        "colab_type": "code",
        "colab": {
          "base_uri": "https://localhost:8080/",
          "height": 866
        },
        "outputId": "41c9efc2-15c2-4862-d233-3eafa0cf3238"
      },
      "source": [
        "import numpy as np\n",
        "import pandas as pd\n",
        "import matplotlib.pyplot as plt\n",
        "\n",
        "# Размер шага обучения (для расчета весов)\n",
        "learnLen = 64\n",
        "\n",
        "# Размер шага работы портфеля\n",
        "workLen = 64\n",
        "\n",
        "# Данные \n",
        "dClose = dCloseData.values\n",
        "\n",
        "# Цикл по выборке\n",
        "doh_optim = []\n",
        "doh_mean = []\n",
        "n = []\n",
        "\n",
        "parts = []\n",
        "\n",
        "for nLearnStop in range(learnLen,dClose.shape[0],workLen):\n",
        "\n",
        "    nLearnStart = nLearnStop - learnLen\n",
        "    nWorkStart = nLearnStop\n",
        "    nWorkStop = nWorkStart + workLen\n",
        "    \n",
        "    dCloseLearn = dClose[nLearnStart:nLearnStop]\n",
        "    dCloseWork = dClose[nWorkStart:nWorkStop]\n",
        "    \n",
        "    # Средняя доходность\n",
        "    dohLearn = np.nanmean(dCloseLearn,axis=0)\n",
        "    dohWork = np.nanmean(dCloseWork,axis=0)\n",
        "\n",
        "    # Ковариация\n",
        "    cov = pd.DataFrame(dCloseLearn).cov().values\n",
        "\n",
        "    # Расчет весов портфеля\n",
        "    r_optim = portfOptim.portfSharpOptim(dohLearn,cov)\n",
        "    parts.append(r_optim)\n",
        "\n",
        "    #raise Exception()\n",
        "\n",
        "    # Расчет результата на следующем периоде\n",
        "    doh_optim.append( portfOptim.dohPortf(r_optim,dohWork) * 100 * 252)\n",
        "    doh_mean.append( np.mean(dohWork) * 100 * 252)\n",
        "    n.append( dCloseData.index[min(nWorkStop,dClose.shape[0]-1)] )\n",
        "\n",
        "plt.figure(figsize=(8,6))\n",
        "plt.plot(n,doh_mean,'b--',label='по среднему портфелю (в среднем %1.1f%%)' % np.mean(doh_mean))\n",
        "plt.plot(n,doh_optim,'g',label='по оптимальному портфелю (в среднем %1.1f%%)' % np.mean(doh_optim))\n",
        "plt.legend()\n",
        "plt.xlabel('дата')\n",
        "plt.xticks(rotation=45)\n",
        "plt.ylabel('% доходности годовой')\n",
        "plt.title('Оценка доходности оптимизированного портфеля [' + ','.join(dCloseData.columns) + ']')\n",
        "plt.grid()\n",
        "x = plt.xticks()\n",
        "plt.show()\n",
        "\n",
        "plt.figure(figsize=(8,6))\n",
        "bot = np.array(parts)[:,0]*0\n",
        "N = bot.shape[0]\n",
        "for c in range(len(dCloseData.columns)):\n",
        "    p = np.array(parts)[:,c] * 100\n",
        "    plt.bar(np.arange(N),p,width=0.35,bottom=bot,label=dCloseData.columns[c])\n",
        "    bot = bot + p\n",
        "plt.xticks(rotation=90)\n",
        "plt.xticks(range(N),labels=[str(_n).split()[0] for _n in n])\n",
        "plt.xlabel('дата')\n",
        "plt.ylabel('доля в портфеле, %')\n",
        "plt.title('История распределения весов в портфеле')\n",
        "plt.legend()\n",
        "plt.show()"
      ],
      "execution_count": 37,
      "outputs": [
        {
          "output_type": "display_data",
          "data": {
            "image/png": "[encoded data removed]",
            "text/plain": [
              "<Figure size 576x432 with 1 Axes>"
            ]
          },
          "metadata": {
            "tags": [],
            "needs_background": "light"
          }
        },
        {
          "output_type": "display_data",
          "data": {
            "image/png": "[encoded data removed]",
            "text/plain": [
              "<Figure size 576x432 with 1 Axes>"
            ]
          },
          "metadata": {
            "tags": [],
            "needs_background": "light"
          }
        }
      ]
    },
    {
      "cell_type": "markdown",
      "metadata": {
        "id": "l7_KRNS_l6FF",
        "colab_type": "text"
      },
      "source": [
        "# Выводы\n",
        "\n"
      ]
    }
  ]
}