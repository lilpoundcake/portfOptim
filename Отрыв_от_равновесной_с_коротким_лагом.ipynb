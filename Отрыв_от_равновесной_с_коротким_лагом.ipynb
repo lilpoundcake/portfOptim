{
  "nbformat": 4,
  "nbformat_minor": 0,
  "metadata": {
    "colab": {
      "name": "Отрыв от равновесной с коротким лагом.ipynb",
      "provenance": [],
      "collapsed_sections": [],
      "toc_visible": true,
      "mount_file_id": "16f5jUM7siQhUZDrkt2_gxEwaUh9HRGXB",
      "authorship_tag": "ABX9TyP7UvdI0E8XSqLFutwwy32m",
      "include_colab_link": true
    },
    "kernelspec": {
      "display_name": "Python 3",
      "name": "python3"
    },
    "accelerator": "GPU"
  },
  "cells": [
    {
      "cell_type": "markdown",
      "metadata": {
        "id": "view-in-github",
        "colab_type": "text"
      },
      "source": [
        "<a href=\"https://colab.research.google.com/github/prog815/portfOptim/blob/master/%D0%9E%D1%82%D1%80%D1%8B%D0%B2_%D0%BE%D1%82_%D1%80%D0%B0%D0%B2%D0%BD%D0%BE%D0%B2%D0%B5%D1%81%D0%BD%D0%BE%D0%B9_%D1%81_%D0%BA%D0%BE%D1%80%D0%BE%D1%82%D0%BA%D0%B8%D0%BC_%D0%BB%D0%B0%D0%B3%D0%BE%D0%BC.ipynb\" target=\"_parent\"><img src=\"https://colab.research.google.com/assets/colab-badge.svg\" alt=\"Open In Colab\"/></a>"
      ]
    },
    {
      "cell_type": "markdown",
      "metadata": {
        "id": "uMREHqSv_oDn"
      },
      "source": [
        "# Загрузка библиотек"
      ]
    },
    {
      "cell_type": "code",
      "metadata": {
        "id": "fQc_ggaXBx9z",
        "outputId": "5fa76ae3-486b-46ce-a611-83610f5cc0df",
        "colab": {
          "base_uri": "https://localhost:8080/"
        }
      },
      "source": [
        "! pip install bt\n",
        "! pip install git+https://github.com/prog815/progGA"
      ],
      "execution_count": 1,
      "outputs": [
        {
          "output_type": "stream",
          "text": [
            "Collecting bt\n",
            "\u001b[?25l  Downloading https://files.pythonhosted.org/packages/b8/5d/45a8b24d0cbf19591beb41b7c6d0b500494c13b9e8de0eecc4a4df7446a3/bt-0.2.7.tar.gz (2.7MB)\n",
            "\u001b[K     |████████████████████████████████| 2.7MB 4.9MB/s \n",
            "\u001b[?25hCollecting ffn\n",
            "  Downloading https://files.pythonhosted.org/packages/b0/9f/0a16afc87d307140ecf3aa78df3985ee2b3fc67ee883ff53edada022a8aa/ffn-0.3.4.tar.gz\n",
            "Collecting pyprind>=2.10\n",
            "  Downloading https://files.pythonhosted.org/packages/1e/30/e76fb0c45da8aef49ea8d2a90d4e7a6877b45894c25f12fb961f009a891e/PyPrind-2.11.2-py3-none-any.whl\n",
            "Requirement already satisfied: decorator>=4 in /usr/local/lib/python3.6/dist-packages (from ffn->bt) (4.4.2)\n",
            "Requirement already satisfied: numpy>=1.5 in /usr/local/lib/python3.6/dist-packages (from ffn->bt) (1.18.5)\n",
            "Requirement already satisfied: pandas>=0.19 in /usr/local/lib/python3.6/dist-packages (from ffn->bt) (1.1.3)\n",
            "Requirement already satisfied: pandas-datareader>=0.2 in /usr/local/lib/python3.6/dist-packages (from ffn->bt) (0.9.0)\n",
            "Requirement already satisfied: tabulate>=0.7.5 in /usr/local/lib/python3.6/dist-packages (from ffn->bt) (0.8.7)\n",
            "Requirement already satisfied: matplotlib>=1 in /usr/local/lib/python3.6/dist-packages (from ffn->bt) (3.2.2)\n",
            "Requirement already satisfied: scikit-learn>=0.15 in /usr/local/lib/python3.6/dist-packages (from ffn->bt) (0.22.2.post1)\n",
            "Requirement already satisfied: scipy>=0.15 in /usr/local/lib/python3.6/dist-packages (from ffn->bt) (1.4.1)\n",
            "Requirement already satisfied: future>=0.15 in /usr/local/lib/python3.6/dist-packages (from ffn->bt) (0.16.0)\n",
            "Requirement already satisfied: python-dateutil>=2.7.3 in /usr/local/lib/python3.6/dist-packages (from pandas>=0.19->ffn->bt) (2.8.1)\n",
            "Requirement already satisfied: pytz>=2017.2 in /usr/local/lib/python3.6/dist-packages (from pandas>=0.19->ffn->bt) (2018.9)\n",
            "Requirement already satisfied: lxml in /usr/local/lib/python3.6/dist-packages (from pandas-datareader>=0.2->ffn->bt) (4.2.6)\n",
            "Requirement already satisfied: requests>=2.19.0 in /usr/local/lib/python3.6/dist-packages (from pandas-datareader>=0.2->ffn->bt) (2.23.0)\n",
            "Requirement already satisfied: pyparsing!=2.0.4,!=2.1.2,!=2.1.6,>=2.0.1 in /usr/local/lib/python3.6/dist-packages (from matplotlib>=1->ffn->bt) (2.4.7)\n",
            "Requirement already satisfied: kiwisolver>=1.0.1 in /usr/local/lib/python3.6/dist-packages (from matplotlib>=1->ffn->bt) (1.2.0)\n",
            "Requirement already satisfied: cycler>=0.10 in /usr/local/lib/python3.6/dist-packages (from matplotlib>=1->ffn->bt) (0.10.0)\n",
            "Requirement already satisfied: joblib>=0.11 in /usr/local/lib/python3.6/dist-packages (from scikit-learn>=0.15->ffn->bt) (0.17.0)\n",
            "Requirement already satisfied: six>=1.5 in /usr/local/lib/python3.6/dist-packages (from python-dateutil>=2.7.3->pandas>=0.19->ffn->bt) (1.15.0)\n",
            "Requirement already satisfied: certifi>=2017.4.17 in /usr/local/lib/python3.6/dist-packages (from requests>=2.19.0->pandas-datareader>=0.2->ffn->bt) (2020.6.20)\n",
            "Requirement already satisfied: idna<3,>=2.5 in /usr/local/lib/python3.6/dist-packages (from requests>=2.19.0->pandas-datareader>=0.2->ffn->bt) (2.10)\n",
            "Requirement already satisfied: urllib3!=1.25.0,!=1.25.1,<1.26,>=1.21.1 in /usr/local/lib/python3.6/dist-packages (from requests>=2.19.0->pandas-datareader>=0.2->ffn->bt) (1.24.3)\n",
            "Requirement already satisfied: chardet<4,>=3.0.2 in /usr/local/lib/python3.6/dist-packages (from requests>=2.19.0->pandas-datareader>=0.2->ffn->bt) (3.0.4)\n",
            "Building wheels for collected packages: bt, ffn\n",
            "  Building wheel for bt (setup.py) ... \u001b[?25l\u001b[?25hdone\n",
            "  Created wheel for bt: filename=bt-0.2.7-cp36-cp36m-linux_x86_64.whl size=533272 sha256=9865e328874cb7d5aac3bd7fd1e50565d66e833af50dfff59ab751ec06040604\n",
            "  Stored in directory: /root/.cache/pip/wheels/ae/8a/a2/a679757e4e7219e6f17727d1422d4ce32da847678c6559da35\n",
            "  Building wheel for ffn (setup.py) ... \u001b[?25l\u001b[?25hdone\n",
            "  Created wheel for ffn: filename=ffn-0.3.4-cp36-none-any.whl size=22813 sha256=4f9f8cf50c5e917b2111e02c8f279017ecb0b6e0a0be20237a530b525ebe007e\n",
            "  Stored in directory: /root/.cache/pip/wheels/20/08/4d/921180e81279d147cb6399fe1e194f2c67a796df86f9f4c5fe\n",
            "Successfully built bt ffn\n",
            "Installing collected packages: ffn, pyprind, bt\n",
            "Successfully installed bt-0.2.7 ffn-0.3.4 pyprind-2.11.2\n",
            "Collecting git+https://github.com/prog815/progGA\n",
            "  Cloning https://github.com/prog815/progGA to /tmp/pip-req-build-c0w97l8y\n",
            "  Running command git clone -q https://github.com/prog815/progGA /tmp/pip-req-build-c0w97l8y\n",
            "Building wheels for collected packages: progGA\n",
            "  Building wheel for progGA (setup.py) ... \u001b[?25l\u001b[?25hdone\n",
            "  Created wheel for progGA: filename=progGA-0.0.7-cp36-none-any.whl size=3733 sha256=6b7e49001e538fcddf4433ae3a8194b2a2d27a714c2c3291328cb248282e68c0\n",
            "  Stored in directory: /tmp/pip-ephem-wheel-cache-xsy93dhx/wheels/9c/7a/cc/d1ffa9ccaa42befda21d63d0e01c942a0add5854c37e0bd2ff\n",
            "Successfully built progGA\n",
            "Installing collected packages: progGA\n",
            "Successfully installed progGA-0.0.7\n"
          ],
          "name": "stdout"
        }
      ]
    },
    {
      "cell_type": "code",
      "metadata": {
        "id": "n0zGPIUSB457",
        "outputId": "26d8ec74-62c8-4b2e-8e0e-aa6eb915fb0c",
        "colab": {
          "base_uri": "https://localhost:8080/"
        }
      },
      "source": [
        "import bt\n",
        "from progGA import ListGenetic\n",
        "import pandas as pd\n",
        "import numpy as np\n",
        "import matplotlib.pyplot as plt\n",
        "%matplotlib inline\n",
        "import pickle\n",
        "import os\n",
        "\n",
        "fn = '/content/drive/My Drive/prog/model_orkl_04.11.2020.pkl'"
      ],
      "execution_count": 2,
      "outputs": [
        {
          "output_type": "stream",
          "text": [
            "/usr/local/lib/python3.6/dist-packages/ffn/core.py:27: MatplotlibDeprecationWarning: The 'warn' parameter of use() is deprecated since Matplotlib 3.1 and will be removed in 3.3.  If any parameter follows 'warn', they should be pass as keyword, not positionally.\n",
            "  matplotlib.use('agg', warn=False)\n"
          ],
          "name": "stderr"
        }
      ]
    },
    {
      "cell_type": "code",
      "metadata": {
        "id": "lRkyPdxT2pUW",
        "outputId": "e55f3840-2d69-49d4-c763-9e8c8372a621",
        "colab": {
          "base_uri": "https://localhost:8080/"
        }
      },
      "source": [
        "! pip install git+https://github.com/prog815/portfOptim"
      ],
      "execution_count": 29,
      "outputs": [
        {
          "output_type": "stream",
          "text": [
            "Collecting git+https://github.com/prog815/portfOptim\n",
            "  Cloning https://github.com/prog815/portfOptim to /tmp/pip-req-build-6s9w9rba\n",
            "  Running command git clone -q https://github.com/prog815/portfOptim /tmp/pip-req-build-6s9w9rba\n",
            "Building wheels for collected packages: portfOptim\n",
            "  Building wheel for portfOptim (setup.py) ... \u001b[?25l\u001b[?25hdone\n",
            "  Created wheel for portfOptim: filename=portfOptim-0.0.4-cp36-none-any.whl size=3097 sha256=05cfe1e87fc18ea97b6e6f5149dfba9b631ddde82b3e1ec30f20167373e6919c\n",
            "  Stored in directory: /tmp/pip-ephem-wheel-cache-c4lip00x/wheels/ef/8b/25/89eadb83696c6f13f7c19550677e232c32182db7884471ca86\n",
            "Successfully built portfOptim\n",
            "Installing collected packages: portfOptim\n",
            "Successfully installed portfOptim-0.0.4\n"
          ],
          "name": "stdout"
        }
      ]
    },
    {
      "cell_type": "code",
      "metadata": {
        "id": "4aKoIfCu2wRk"
      },
      "source": [
        "import portfOptim"
      ],
      "execution_count": 30,
      "outputs": []
    },
    {
      "cell_type": "markdown",
      "metadata": {
        "id": "hK4mmWIR_rtN"
      },
      "source": [
        "# Загрузка истории"
      ]
    },
    {
      "cell_type": "code",
      "metadata": {
        "id": "il0yS3RJB-5b",
        "outputId": "45f42549-ffa1-4e57-f306-9ec4e1af5009",
        "colab": {
          "base_uri": "https://localhost:8080/",
          "height": 450
        }
      },
      "source": [
        "#data = bt.get('AAPL,AAL,GE,F',start='2010-01-01')\n",
        "data = bt.get(['AAPL','GE','BAC','AMD','PLUG','F'],start='2010-01-01')\n",
        "lenData = len(data)\n",
        "data"
      ],
      "execution_count": 44,
      "outputs": [
        {
          "output_type": "execute_result",
          "data": {
            "text/html": [
              "<div>\n",
              "<style scoped>\n",
              "    .dataframe tbody tr th:only-of-type {\n",
              "        vertical-align: middle;\n",
              "    }\n",
              "\n",
              "    .dataframe tbody tr th {\n",
              "        vertical-align: top;\n",
              "    }\n",
              "\n",
              "    .dataframe thead th {\n",
              "        text-align: right;\n",
              "    }\n",
              "</style>\n",
              "<table border=\"1\" class=\"dataframe\">\n",
              "  <thead>\n",
              "    <tr style=\"text-align: right;\">\n",
              "      <th></th>\n",
              "      <th>aapl</th>\n",
              "      <th>ge</th>\n",
              "      <th>bac</th>\n",
              "      <th>amd</th>\n",
              "      <th>plug</th>\n",
              "      <th>f</th>\n",
              "    </tr>\n",
              "    <tr>\n",
              "      <th>Date</th>\n",
              "      <th></th>\n",
              "      <th></th>\n",
              "      <th></th>\n",
              "      <th></th>\n",
              "      <th></th>\n",
              "      <th></th>\n",
              "    </tr>\n",
              "  </thead>\n",
              "  <tbody>\n",
              "    <tr>\n",
              "      <th>2010-01-04</th>\n",
              "      <td>6.604801</td>\n",
              "      <td>10.840267</td>\n",
              "      <td>13.816905</td>\n",
              "      <td>9.700000</td>\n",
              "      <td>7.000000</td>\n",
              "      <td>6.937616</td>\n",
              "    </tr>\n",
              "    <tr>\n",
              "      <th>2010-01-05</th>\n",
              "      <td>6.616219</td>\n",
              "      <td>10.896401</td>\n",
              "      <td>14.266021</td>\n",
              "      <td>9.710000</td>\n",
              "      <td>7.000000</td>\n",
              "      <td>7.396526</td>\n",
              "    </tr>\n",
              "    <tr>\n",
              "      <th>2010-01-06</th>\n",
              "      <td>6.510980</td>\n",
              "      <td>10.840267</td>\n",
              "      <td>14.433337</td>\n",
              "      <td>9.570000</td>\n",
              "      <td>6.700000</td>\n",
              "      <td>7.673220</td>\n",
              "    </tr>\n",
              "    <tr>\n",
              "      <th>2010-01-07</th>\n",
              "      <td>6.498945</td>\n",
              "      <td>11.401575</td>\n",
              "      <td>14.908874</td>\n",
              "      <td>9.470000</td>\n",
              "      <td>6.700000</td>\n",
              "      <td>7.868933</td>\n",
              "    </tr>\n",
              "    <tr>\n",
              "      <th>2010-01-08</th>\n",
              "      <td>6.542150</td>\n",
              "      <td>11.647147</td>\n",
              "      <td>14.776777</td>\n",
              "      <td>9.430000</td>\n",
              "      <td>6.800000</td>\n",
              "      <td>7.889179</td>\n",
              "    </tr>\n",
              "    <tr>\n",
              "      <th>...</th>\n",
              "      <td>...</td>\n",
              "      <td>...</td>\n",
              "      <td>...</td>\n",
              "      <td>...</td>\n",
              "      <td>...</td>\n",
              "      <td>...</td>\n",
              "    </tr>\n",
              "    <tr>\n",
              "      <th>2020-10-29</th>\n",
              "      <td>115.320000</td>\n",
              "      <td>7.370000</td>\n",
              "      <td>23.540001</td>\n",
              "      <td>78.019997</td>\n",
              "      <td>14.810000</td>\n",
              "      <td>7.900000</td>\n",
              "    </tr>\n",
              "    <tr>\n",
              "      <th>2020-10-30</th>\n",
              "      <td>108.860001</td>\n",
              "      <td>7.420000</td>\n",
              "      <td>23.700001</td>\n",
              "      <td>75.290001</td>\n",
              "      <td>14.000000</td>\n",
              "      <td>7.730000</td>\n",
              "    </tr>\n",
              "    <tr>\n",
              "      <th>2020-11-02</th>\n",
              "      <td>108.769997</td>\n",
              "      <td>7.520000</td>\n",
              "      <td>24.080000</td>\n",
              "      <td>74.699997</td>\n",
              "      <td>15.470000</td>\n",
              "      <td>7.710000</td>\n",
              "    </tr>\n",
              "    <tr>\n",
              "      <th>2020-11-03</th>\n",
              "      <td>110.440002</td>\n",
              "      <td>7.850000</td>\n",
              "      <td>24.690001</td>\n",
              "      <td>76.580002</td>\n",
              "      <td>16.950001</td>\n",
              "      <td>7.880000</td>\n",
              "    </tr>\n",
              "    <tr>\n",
              "      <th>2020-11-04</th>\n",
              "      <td>113.889999</td>\n",
              "      <td>7.592400</td>\n",
              "      <td>23.906601</td>\n",
              "      <td>80.929901</td>\n",
              "      <td>16.250000</td>\n",
              "      <td>7.820000</td>\n",
              "    </tr>\n",
              "  </tbody>\n",
              "</table>\n",
              "<p>2730 rows × 6 columns</p>\n",
              "</div>"
            ],
            "text/plain": [
              "                  aapl         ge        bac        amd       plug         f\n",
              "Date                                                                        \n",
              "2010-01-04    6.604801  10.840267  13.816905   9.700000   7.000000  6.937616\n",
              "2010-01-05    6.616219  10.896401  14.266021   9.710000   7.000000  7.396526\n",
              "2010-01-06    6.510980  10.840267  14.433337   9.570000   6.700000  7.673220\n",
              "2010-01-07    6.498945  11.401575  14.908874   9.470000   6.700000  7.868933\n",
              "2010-01-08    6.542150  11.647147  14.776777   9.430000   6.800000  7.889179\n",
              "...                ...        ...        ...        ...        ...       ...\n",
              "2020-10-29  115.320000   7.370000  23.540001  78.019997  14.810000  7.900000\n",
              "2020-10-30  108.860001   7.420000  23.700001  75.290001  14.000000  7.730000\n",
              "2020-11-02  108.769997   7.520000  24.080000  74.699997  15.470000  7.710000\n",
              "2020-11-03  110.440002   7.850000  24.690001  76.580002  16.950001  7.880000\n",
              "2020-11-04  113.889999   7.592400  23.906601  80.929901  16.250000  7.820000\n",
              "\n",
              "[2730 rows x 6 columns]"
            ]
          },
          "metadata": {
            "tags": []
          },
          "execution_count": 44
        }
      ]
    },
    {
      "cell_type": "code",
      "metadata": {
        "id": "qpCdLDxPehTs",
        "outputId": "a01a1cda-e2f9-400f-8ae0-3bbc34c43d27",
        "colab": {
          "base_uri": "https://localhost:8080/",
          "height": 450
        }
      },
      "source": [
        "dData = data.to_returns()\n",
        "dData"
      ],
      "execution_count": 45,
      "outputs": [
        {
          "output_type": "execute_result",
          "data": {
            "text/html": [
              "<div>\n",
              "<style scoped>\n",
              "    .dataframe tbody tr th:only-of-type {\n",
              "        vertical-align: middle;\n",
              "    }\n",
              "\n",
              "    .dataframe tbody tr th {\n",
              "        vertical-align: top;\n",
              "    }\n",
              "\n",
              "    .dataframe thead th {\n",
              "        text-align: right;\n",
              "    }\n",
              "</style>\n",
              "<table border=\"1\" class=\"dataframe\">\n",
              "  <thead>\n",
              "    <tr style=\"text-align: right;\">\n",
              "      <th></th>\n",
              "      <th>aapl</th>\n",
              "      <th>ge</th>\n",
              "      <th>bac</th>\n",
              "      <th>amd</th>\n",
              "      <th>plug</th>\n",
              "      <th>f</th>\n",
              "    </tr>\n",
              "    <tr>\n",
              "      <th>Date</th>\n",
              "      <th></th>\n",
              "      <th></th>\n",
              "      <th></th>\n",
              "      <th></th>\n",
              "      <th></th>\n",
              "      <th></th>\n",
              "    </tr>\n",
              "  </thead>\n",
              "  <tbody>\n",
              "    <tr>\n",
              "      <th>2010-01-04</th>\n",
              "      <td>NaN</td>\n",
              "      <td>NaN</td>\n",
              "      <td>NaN</td>\n",
              "      <td>NaN</td>\n",
              "      <td>NaN</td>\n",
              "      <td>NaN</td>\n",
              "    </tr>\n",
              "    <tr>\n",
              "      <th>2010-01-05</th>\n",
              "      <td>0.001729</td>\n",
              "      <td>0.005178</td>\n",
              "      <td>0.032505</td>\n",
              "      <td>0.001031</td>\n",
              "      <td>0.000000</td>\n",
              "      <td>0.066148</td>\n",
              "    </tr>\n",
              "    <tr>\n",
              "      <th>2010-01-06</th>\n",
              "      <td>-0.015906</td>\n",
              "      <td>-0.005152</td>\n",
              "      <td>0.011728</td>\n",
              "      <td>-0.014418</td>\n",
              "      <td>-0.042857</td>\n",
              "      <td>0.037409</td>\n",
              "    </tr>\n",
              "    <tr>\n",
              "      <th>2010-01-07</th>\n",
              "      <td>-0.001848</td>\n",
              "      <td>0.051780</td>\n",
              "      <td>0.032947</td>\n",
              "      <td>-0.010449</td>\n",
              "      <td>0.000000</td>\n",
              "      <td>0.025506</td>\n",
              "    </tr>\n",
              "    <tr>\n",
              "      <th>2010-01-08</th>\n",
              "      <td>0.006648</td>\n",
              "      <td>0.021538</td>\n",
              "      <td>-0.008860</td>\n",
              "      <td>-0.004224</td>\n",
              "      <td>0.014925</td>\n",
              "      <td>0.002573</td>\n",
              "    </tr>\n",
              "    <tr>\n",
              "      <th>...</th>\n",
              "      <td>...</td>\n",
              "      <td>...</td>\n",
              "      <td>...</td>\n",
              "      <td>...</td>\n",
              "      <td>...</td>\n",
              "      <td>...</td>\n",
              "    </tr>\n",
              "    <tr>\n",
              "      <th>2020-10-29</th>\n",
              "      <td>0.037050</td>\n",
              "      <td>-0.006739</td>\n",
              "      <td>0.002983</td>\n",
              "      <td>0.021204</td>\n",
              "      <td>0.000676</td>\n",
              "      <td>0.025974</td>\n",
              "    </tr>\n",
              "    <tr>\n",
              "      <th>2020-10-30</th>\n",
              "      <td>-0.056018</td>\n",
              "      <td>0.006784</td>\n",
              "      <td>0.006797</td>\n",
              "      <td>-0.034991</td>\n",
              "      <td>-0.054693</td>\n",
              "      <td>-0.021519</td>\n",
              "    </tr>\n",
              "    <tr>\n",
              "      <th>2020-11-02</th>\n",
              "      <td>-0.000827</td>\n",
              "      <td>0.013477</td>\n",
              "      <td>0.016034</td>\n",
              "      <td>-0.007836</td>\n",
              "      <td>0.105000</td>\n",
              "      <td>-0.002587</td>\n",
              "    </tr>\n",
              "    <tr>\n",
              "      <th>2020-11-03</th>\n",
              "      <td>0.015354</td>\n",
              "      <td>0.043883</td>\n",
              "      <td>0.025332</td>\n",
              "      <td>0.025167</td>\n",
              "      <td>0.095669</td>\n",
              "      <td>0.022049</td>\n",
              "    </tr>\n",
              "    <tr>\n",
              "      <th>2020-11-04</th>\n",
              "      <td>0.031239</td>\n",
              "      <td>-0.032815</td>\n",
              "      <td>-0.031729</td>\n",
              "      <td>0.056802</td>\n",
              "      <td>-0.041298</td>\n",
              "      <td>-0.007614</td>\n",
              "    </tr>\n",
              "  </tbody>\n",
              "</table>\n",
              "<p>2730 rows × 6 columns</p>\n",
              "</div>"
            ],
            "text/plain": [
              "                aapl        ge       bac       amd      plug         f\n",
              "Date                                                                  \n",
              "2010-01-04       NaN       NaN       NaN       NaN       NaN       NaN\n",
              "2010-01-05  0.001729  0.005178  0.032505  0.001031  0.000000  0.066148\n",
              "2010-01-06 -0.015906 -0.005152  0.011728 -0.014418 -0.042857  0.037409\n",
              "2010-01-07 -0.001848  0.051780  0.032947 -0.010449  0.000000  0.025506\n",
              "2010-01-08  0.006648  0.021538 -0.008860 -0.004224  0.014925  0.002573\n",
              "...              ...       ...       ...       ...       ...       ...\n",
              "2020-10-29  0.037050 -0.006739  0.002983  0.021204  0.000676  0.025974\n",
              "2020-10-30 -0.056018  0.006784  0.006797 -0.034991 -0.054693 -0.021519\n",
              "2020-11-02 -0.000827  0.013477  0.016034 -0.007836  0.105000 -0.002587\n",
              "2020-11-03  0.015354  0.043883  0.025332  0.025167  0.095669  0.022049\n",
              "2020-11-04  0.031239 -0.032815 -0.031729  0.056802 -0.041298 -0.007614\n",
              "\n",
              "[2730 rows x 6 columns]"
            ]
          },
          "metadata": {
            "tags": []
          },
          "execution_count": 45
        }
      ]
    },
    {
      "cell_type": "markdown",
      "metadata": {
        "id": "-0yygc2P_3xE"
      },
      "source": [
        "# Алгоритм распределения"
      ]
    },
    {
      "cell_type": "markdown",
      "metadata": {
        "id": "-TtN5FXpARTk"
      },
      "source": [
        "# Поиск гиперпараметров"
      ]
    },
    {
      "cell_type": "markdown",
      "metadata": {
        "id": "wcOTjoghAcB8"
      },
      "source": [
        "## Целевая функция"
      ]
    },
    {
      "cell_type": "code",
      "metadata": {
        "id": "rgMBgMDpqiBp",
        "outputId": "3668dedf-e536-462d-97c8-9a680867dda4",
        "colab": {
          "base_uri": "https://localhost:8080/"
        }
      },
      "source": [
        "def getQualityMethod(lookback=100,lag=10):\n",
        "\n",
        "    randPoint = np.random.randint(2*lag+lookback+1,lenData-1-2*lag)\n",
        "    \n",
        "    # выборки\n",
        "    learnData = dData.iloc[(randPoint-lookback):randPoint]\n",
        "    validData = dData.iloc[randPoint:(randPoint+lag)]\n",
        "\n",
        "    # оптимальные веса\n",
        "    weights = bt.ffn.calc_mean_var_weights(learnData).values\n",
        "    # weights = portfOptim.portfSharpOptim(learnDoh,learnCov)\n",
        "\n",
        "    # ковариация и доходность на отборе\n",
        "    validCov = validData.cov().values\n",
        "    validDoh = validData.mean().values\n",
        "\n",
        "    def calcSharpe(covar,mean,w):\n",
        "        doh = np.matmul(mean,w)\n",
        "        var = np.matmul(np.matmul(w, covar), w)\n",
        "        return doh / np.sqrt(var)\n",
        "\n",
        "    portfOptim.koefSharp\n",
        "\n",
        "    # коэффициент Шарпа на отборе для оптимальной стратегии\n",
        "    optimKoef = calcSharpe(validCov,validDoh,weights)\n",
        "    \n",
        "    # коэффициент Шарпа на отборе для равновесной стратегии\n",
        "    eqKoef = calcSharpe(validCov,validDoh,np.ones_like(weights)/len(weights))\n",
        "    \n",
        "    # возвращаем разницу коэффициентов\n",
        "    return optimKoef - eqKoef\n",
        "    \n",
        "\n",
        "getQualityMethod()"
      ],
      "execution_count": 75,
      "outputs": [
        {
          "output_type": "execute_result",
          "data": {
            "text/plain": [
              "-0.8840861791311835"
            ]
          },
          "metadata": {
            "tags": []
          },
          "execution_count": 75
        }
      ]
    },
    {
      "cell_type": "markdown",
      "metadata": {
        "id": "E8ARLilQArY8"
      },
      "source": [
        "## Создание модели"
      ]
    },
    {
      "cell_type": "code",
      "metadata": {
        "id": "Az0_iuRb_NJo"
      },
      "source": [
        "modelGA = ListGenetic(pop_size=200,\n",
        "                      lookback=range(30,400),\n",
        "                      quality_method=getQualityMethod)\n",
        "\n",
        "if os.path.exists(fn):\n",
        "    with open(fn,'rb') as fp:\n",
        "        modelGA = pickle.load(fp)"
      ],
      "execution_count": 76,
      "outputs": []
    },
    {
      "cell_type": "markdown",
      "metadata": {
        "id": "UgV0-znLAvHc"
      },
      "source": [
        "## Бесконечный цикл поиска"
      ]
    },
    {
      "cell_type": "code",
      "metadata": {
        "id": "IyJLA71Sw3Hk",
        "outputId": "dded090a-bf87-4b3e-d0db-03a1fc2b603c",
        "colab": {
          "base_uri": "https://localhost:8080/",
          "height": 1000
        }
      },
      "source": [
        "while True:\n",
        "    modelGA.fit(100,echo_time=60)\n",
        "    with open(fn,'wb') as fp:\n",
        "        pickle.dump(modelGA,fp)"
      ],
      "execution_count": 77,
      "outputs": [
        {
          "output_type": "stream",
          "text": [
            "finish -  54897 {'quality': -0.03357561395785583, 'lookback': 307}\n",
            "finish -  54997 {'quality': 0.13016566829550974, 'lookback': 319}\n",
            "finish -  55097 {'quality': 0.3115680687562192, 'lookback': 261}\n",
            "finish -  55197 {'quality': -0.10943825366972817, 'lookback': 261}\n",
            "finish -  55297 {'quality': 0.08293510204416792, 'lookback': 274}\n",
            "finish -  55397 {'quality': -0.2627159545330142, 'lookback': 285}\n",
            "finish -  55497 {'quality': 0.42965221391827924, 'lookback': 307}\n",
            "finish -  55597 {'quality': -0.14189072946703699, 'lookback': 298}\n",
            "finish -  55697 {'quality': 0.10986006054165859, 'lookback': 276}\n",
            "finish -  55797 {'quality': -0.17673062899528685, 'lookback': 273}\n",
            "finish -  55897 {'quality': -0.34816360872976143, 'lookback': 277}\n",
            "finish -  55997 {'quality': -0.1106653815166827, 'lookback': 273}\n",
            "finish -  56097 {'quality': 0.44924811163063966, 'lookback': 291}\n",
            "finish -  56197 {'quality': 0.42383380304801666, 'lookback': 277}\n",
            "finish -  56297 {'quality': 0.6157059845525257, 'lookback': 283}\n",
            "finish -  56397 {'quality': -0.5880127930246815, 'lookback': 284}\n",
            "finish -  56497 {'quality': 0.09183359760542475, 'lookback': 268}\n",
            "finish -  56597 {'quality': -0.06811638149042745, 'lookback': 261}\n",
            "finish -  56697 {'quality': 0.12487083772665297, 'lookback': 273}\n",
            "finish -  56797 {'quality': 0.1030625287849255, 'lookback': 303}\n",
            "finish -  56897 {'quality': -0.041495881634339704, 'lookback': 303}\n",
            "finish -  56997 {'quality': 0.42809304625012407, 'lookback': 259}\n",
            "finish -  57097 {'quality': 0.4199336601643665, 'lookback': 278}\n",
            "finish -  57197 {'quality': 0.47476636594018096, 'lookback': 267}\n",
            "finish -  57297 {'quality': 0.05862569243073798, 'lookback': 306}\n",
            "finish -  57397 {'quality': -0.035619419470255154, 'lookback': 322}\n",
            "finish -  57497 {'quality': -0.5384731042718116, 'lookback': 281}\n",
            "finish -  57597 {'quality': 0.06538963157374236, 'lookback': 313}\n",
            "finish -  57697 {'quality': 0.09351859258441586, 'lookback': 333}\n",
            "finish -  57797 {'quality': -0.42918004360960205, 'lookback': 276}\n",
            "finish -  57897 {'quality': 0.22712517331373416, 'lookback': 306}\n",
            "finish -  57997 {'quality': -0.06559302986248289, 'lookback': 285}\n",
            "finish -  58097 {'quality': 0.049858710249117866, 'lookback': 271}\n",
            "finish -  58197 {'quality': -0.10271322421886189, 'lookback': 322}\n",
            "finish -  58297 {'quality': 0.055180972806493755, 'lookback': 278}\n",
            "finish -  58397 {'quality': -0.13071651321184782, 'lookback': 250}\n",
            "finish -  58497 {'quality': 0.13896495733521066, 'lookback': 281}\n",
            "finish -  58597 {'quality': -0.16305147515099594, 'lookback': 287}\n",
            "finish -  58697 {'quality': 0.018916161720468977, 'lookback': 274}\n",
            "finish -  58797 {'quality': -0.08435286009711798, 'lookback': 242}\n",
            "finish -  58897 {'quality': 0.15187975344507443, 'lookback': 280}\n",
            "finish -  58997 {'quality': 0.356497800305012, 'lookback': 291}\n",
            "finish -  59097 {'quality': 0.02850702620843846, 'lookback': 253}\n",
            "finish -  59197 {'quality': 0.018266815768620465, 'lookback': 316}\n",
            "finish -  59297 {'quality': -0.23337876825892456, 'lookback': 257}\n",
            "finish -  59397 {'quality': 0.4742622852744549, 'lookback': 330}\n",
            "finish -  59497 {'quality': 0.009057826941858166, 'lookback': 282}\n",
            "finish -  59597 {'quality': 0.11460653263906723, 'lookback': 263}\n",
            "finish -  59697 {'quality': 0.11048337690574282, 'lookback': 282}\n",
            "finish -  59797 {'quality': 0.06069503597226911, 'lookback': 293}\n",
            "finish -  59897 {'quality': 0.45173581346433517, 'lookback': 286}\n",
            "finish -  59997 {'quality': 0.023985000035856796, 'lookback': 244}\n",
            "finish -  60097 {'quality': -0.6606012887152822, 'lookback': 278}\n",
            "finish -  60197 {'quality': 0.11318221126732503, 'lookback': 261}\n",
            "finish -  60297 {'quality': 0.4012429349506587, 'lookback': 289}\n",
            "finish -  60397 {'quality': 0.1935593359710696, 'lookback': 298}\n",
            "finish -  60497 {'quality': 0.38223184426738815, 'lookback': 291}\n",
            "finish -  60597 {'quality': 0.6014671666102405, 'lookback': 238}\n",
            "finish -  60697 {'quality': -0.204196398929534, 'lookback': 279}\n",
            "finish -  60797 {'quality': -0.008724199155924761, 'lookback': 283}\n",
            "finish -  60897 {'quality': 0.0811030338175996, 'lookback': 265}\n",
            "finish -  60997 {'quality': -0.9848369275742068, 'lookback': 296}\n",
            "finish -  61097 {'quality': 0.0780408134910098, 'lookback': 289}\n",
            "finish -  61197 {'quality': -0.22719974443072852, 'lookback': 268}\n",
            "finish -  61297 {'quality': 0.13717393210308854, 'lookback': 297}\n",
            "finish -  61397 {'quality': -0.06724959556900102, 'lookback': 250}\n",
            "finish -  61497 {'quality': 0.06543639762233573, 'lookback': 257}\n",
            "finish -  61597 {'quality': 0.08525543190440928, 'lookback': 276}\n",
            "finish -  61697 {'quality': 0.5313467767653001, 'lookback': 257}\n",
            "finish -  61797 {'quality': -0.019867351229489405, 'lookback': 275}\n",
            "finish -  61897 {'quality': -0.3981566264162494, 'lookback': 311}\n",
            "finish -  61997 {'quality': 0.21531851742885347, 'lookback': 286}\n",
            "finish -  62097 {'quality': 0.017704874942817514, 'lookback': 289}\n",
            "finish -  62197 {'quality': 0.30984637323772607, 'lookback': 303}\n",
            "finish -  62297 {'quality': -0.052648988130700514, 'lookback': 301}\n",
            "finish -  62397 {'quality': 0.20098435738806295, 'lookback': 304}\n",
            "finish -  62497 {'quality': 0.515883032911627, 'lookback': 314}\n",
            "finish -  62597 {'quality': 0.11165596933587292, 'lookback': 305}\n",
            "finish -  62697 {'quality': -0.13545430055876598, 'lookback': 249}\n",
            "finish -  62797 {'quality': -0.052986048245184825, 'lookback': 306}\n",
            "finish -  62897 {'quality': 0.20393000996796423, 'lookback': 307}\n",
            "finish -  62997 {'quality': -0.3568468644321991, 'lookback': 296}\n",
            "finish -  63097 {'quality': 0.04003550111871744, 'lookback': 276}\n",
            "finish -  63197 {'quality': 0.10570555446974059, 'lookback': 243}\n",
            "finish -  63297 {'quality': 0.04424704190099664, 'lookback': 311}\n",
            "finish -  63397 {'quality': 0.04746757876869495, 'lookback': 282}\n",
            "finish -  63497 {'quality': -0.17145330160813632, 'lookback': 304}\n",
            "finish -  63597 {'quality': -0.16021952623663271, 'lookback': 279}\n",
            "finish -  63697 {'quality': -0.14152010891680414, 'lookback': 270}\n",
            "finish -  63797 {'quality': -0.18404095957910177, 'lookback': 242}\n",
            "finish -  63897 {'quality': -0.6401847100449551, 'lookback': 315}\n",
            "finish -  63997 {'quality': -0.07985943996575728, 'lookback': 295}\n",
            "finish -  64097 {'quality': 0.005801870968724282, 'lookback': 280}\n",
            "finish -  64197 {'quality': -0.03232043287433914, 'lookback': 242}\n",
            "finish -  64297 {'quality': 0.12929251045444334, 'lookback': 285}\n",
            "finish -  64397 {'quality': 0.22139535655451403, 'lookback': 289}\n",
            "finish -  64497 {'quality': 0.27505940429225006, 'lookback': 295}\n",
            "finish -  64597 {'quality': -0.20766815064705366, 'lookback': 257}\n",
            "finish -  64697 {'quality': -0.2316972164419776, 'lookback': 286}\n",
            "finish -  64797 {'quality': -0.09638999095012249, 'lookback': 240}\n",
            "finish -  64897 {'quality': 0.7944215640748704, 'lookback': 285}\n",
            "finish -  64997 {'quality': -0.4606178140616442, 'lookback': 288}\n",
            "finish -  65097 {'quality': 0.20526179509129222, 'lookback': 255}\n",
            "finish -  65197 {'quality': -0.14494615216113094, 'lookback': 317}\n",
            "finish -  65297 {'quality': 0.554104664112661, 'lookback': 313}\n",
            "finish -  65397 {'quality': 0.1858373346507719, 'lookback': 279}\n",
            "finish -  65497 {'quality': 0.022735836575709406, 'lookback': 252}\n",
            "finish -  65597 {'quality': -0.07941517179722724, 'lookback': 291}\n",
            "finish -  65697 {'quality': 0.0846477640715077, 'lookback': 303}\n",
            "finish -  65797 {'quality': -0.026431010724622672, 'lookback': 239}\n",
            "finish -  65897 {'quality': -0.2975271025698092, 'lookback': 245}\n",
            "finish -  65997 {'quality': 0.042879128991603316, 'lookback': 252}\n",
            "finish -  66097 {'quality': 0.2836411008332802, 'lookback': 243}\n",
            "finish -  66197 {'quality': -0.05525323096771928, 'lookback': 262}\n",
            "finish -  66297 {'quality': -0.09098444566176933, 'lookback': 264}\n",
            "finish -  66397 {'quality': 0.5483038390329198, 'lookback': 241}\n",
            "finish -  66497 {'quality': -0.00908157413344618, 'lookback': 242}\n",
            "finish -  66597 {'quality': 0.4442652523181668, 'lookback': 235}\n",
            "finish -  66697 {'quality': 0.2328144055273448, 'lookback': 246}\n",
            "finish -  66797 {'quality': 0.6154531530202532, 'lookback': 310}\n",
            "finish -  66897 {'quality': -0.2679241389795752, 'lookback': 246}\n",
            "finish -  66997 {'quality': -0.1914831659256162, 'lookback': 258}\n",
            "finish -  67097 {'quality': 0.008188450197801178, 'lookback': 232}\n",
            "finish -  67197 {'quality': 0.035562905799124994, 'lookback': 238}\n",
            "finish -  67297 {'quality': -0.6849906594126607, 'lookback': 225}\n",
            "finish -  67397 {'quality': -0.19968517852336737, 'lookback': 232}\n",
            "finish -  67497 {'quality': 0.27729464439158674, 'lookback': 278}\n",
            "finish -  67597 {'quality': -0.5811856754680063, 'lookback': 212}\n",
            "finish -  67697 {'quality': 0.13669066208738773, 'lookback': 295}\n",
            "finish -  67797 {'quality': 0.18257398492623428, 'lookback': 282}\n",
            "finish -  67897 {'quality': -0.15909038024188513, 'lookback': 216}\n",
            "finish -  67997 {'quality': 0.6241394580256243, 'lookback': 308}\n",
            "finish -  68097 {'quality': -0.15099270950512028, 'lookback': 297}\n",
            "finish -  68197 {'quality': 0.23375860362285616, 'lookback': 307}\n",
            "finish -  68297 {'quality': -0.06079652086474863, 'lookback': 320}\n",
            "finish -  68397 {'quality': -0.1648464669301522, 'lookback': 307}\n",
            "finish -  68497 {'quality': -0.01803417741855262, 'lookback': 313}\n",
            "finish -  68597 {'quality': -0.06418356951430698, 'lookback': 335}\n",
            "finish -  68697 {'quality': -0.11350639234884494, 'lookback': 299}\n",
            "finish -  68797 {'quality': -0.0025808077785621636, 'lookback': 178}\n",
            "finish -  68897 {'quality': -0.00991239340406796, 'lookback': 193}\n",
            "finish -  68997 {'quality': 0.002948282986282025, 'lookback': 345}\n",
            "finish -  69097 {'quality': 0.10396095017604368, 'lookback': 216}\n",
            "finish -  69197 {'quality': 0.15000162516160906, 'lookback': 183}\n",
            "finish -  69297 {'quality': -0.26393199082079855, 'lookback': 299}\n",
            "finish -  69397 {'quality': 0.13748696352253606, 'lookback': 215}\n",
            "finish -  69497 {'quality': -0.1654666822060561, 'lookback': 189}\n",
            "finish -  69597 {'quality': -0.048254044351261696, 'lookback': 228}\n",
            "finish -  69697 {'quality': -0.39204866770251523, 'lookback': 294}\n",
            "finish -  69797 {'quality': 0.5361479881358422, 'lookback': 201}\n",
            "finish -  69897 {'quality': -0.07852983962722057, 'lookback': 296}\n",
            "finish -  69997 {'quality': 0.08209437718608517, 'lookback': 296}\n",
            "finish -  70097 {'quality': 0.3674128115248963, 'lookback': 195}\n",
            "finish -  70197 {'quality': 0.1373921332586403, 'lookback': 295}\n",
            "finish -  70297 {'quality': 0.005266850402904505, 'lookback': 232}\n",
            "finish -  70397 {'quality': 0.1935593359710696, 'lookback': 299}\n",
            "finish -  70497 {'quality': -0.021487737470564844, 'lookback': 296}\n",
            "finish -  70597 {'quality': 0.2611826033627057, 'lookback': 234}\n",
            "finish -  70697 {'quality': 0.16190649688521083, 'lookback': 225}\n",
            "finish -  70797 {'quality': 0.3191649719451045, 'lookback': 242}\n",
            "finish -  70897 {'quality': 0.06219523033781507, 'lookback': 294}\n",
            "finish -  70997 {'quality': -0.021793901694005316, 'lookback': 294}\n",
            "finish -  71097 {'quality': 0.12637724853389276, 'lookback': 296}\n",
            "finish -  71197 {'quality': -0.1320187011078663, 'lookback': 300}\n",
            "finish -  71297 {'quality': -0.013707156299880896, 'lookback': 293}\n",
            "finish -  71397 {'quality': 0.21069525936803435, 'lookback': 305}\n",
            "finish -  71497 {'quality': -0.31031771618310555, 'lookback': 308}\n",
            "finish -  71597 {'quality': -0.0993207767197465, 'lookback': 262}\n",
            "finish -  71697 {'quality': 0.3625769506312949, 'lookback': 228}\n",
            "finish -  71797 {'quality': -0.21718271967321728, 'lookback': 226}\n",
            "finish -  71897 {'quality': 0.039731418712909805, 'lookback': 272}\n",
            "finish -  71997 {'quality': 0.07028788787083395, 'lookback': 279}\n",
            "finish -  72097 {'quality': -0.1317952018316254, 'lookback': 269}\n",
            "finish -  72197 {'quality': 0.03198293466718216, 'lookback': 191}\n",
            "finish -  72297 {'quality': 0.31793648883950815, 'lookback': 279}\n",
            "finish -  72397 {'quality': 0.10186285521409266, 'lookback': 214}\n",
            "finish -  72497 {'quality': 0.2501817149044354, 'lookback': 261}\n",
            "finish -  72597 {'quality': -0.2481501823013565, 'lookback': 280}\n",
            "finish -  72697 {'quality': 0.13768478468602313, 'lookback': 262}\n",
            "finish -  72797 {'quality': 0.0924232230394755, 'lookback': 266}\n",
            "finish -  72897 {'quality': 0.014019696510349719, 'lookback': 310}\n",
            "finish -  72997 {'quality': -0.16583521035453866, 'lookback': 237}\n",
            "finish -  73097 {'quality': -0.028571585032240276, 'lookback': 261}\n",
            "finish -  73197 {'quality': -0.14316238776038537, 'lookback': 273}\n",
            "finish -  73297 {'quality': -0.1781215448797132, 'lookback': 289}\n",
            "finish -  73397 {'quality': 0.4304603875418627, 'lookback': 287}\n",
            "finish -  73497 {'quality': 0.07376131836034372, 'lookback': 257}\n",
            "finish -  73597 {'quality': -0.04086313649309525, 'lookback': 272}\n",
            "finish -  73697 {'quality': 0.6858455401674464, 'lookback': 265}\n",
            "finish -  73797 {'quality': 0.2890678135512751, 'lookback': 244}\n",
            "finish -  73897 {'quality': -0.02765615316825626, 'lookback': 242}\n",
            "finish -  73997 {'quality': 0.06966701855859697, 'lookback': 282}\n",
            "finish -  74097 {'quality': -0.4954699545940051, 'lookback': 209}\n",
            "finish -  74197 {'quality': 0.11874037428030071, 'lookback': 256}\n",
            "finish -  74297 {'quality': 0.11969547624544044, 'lookback': 254}\n",
            "finish -  74397 {'quality': -0.21463283726052662, 'lookback': 246}\n",
            "finish -  74497 {'quality': 0.28666957558119704, 'lookback': 292}\n",
            "finish -  74597 {'quality': 0.12451737721704922, 'lookback': 295}\n",
            "finish -  74697 {'quality': 0.034931113079832043, 'lookback': 257}\n",
            "finish -  74797 {'quality': 0.00043189933890669385, 'lookback': 274}\n",
            "finish -  74897 {'quality': 0.08413803575939593, 'lookback': 266}\n",
            "finish -  74997 {'quality': 0.278037563395847, 'lookback': 271}\n",
            "finish -  75097 {'quality': 0.15240352093153858, 'lookback': 243}\n",
            "finish -  75197 {'quality': 0.0986937981098861, 'lookback': 265}\n",
            "finish -  75297 {'quality': 0.15167774069101325, 'lookback': 276}\n",
            "finish -  75397 {'quality': -0.03689789882438971, 'lookback': 260}\n",
            "finish -  75497 {'quality': 0.2686686365965891, 'lookback': 263}\n",
            "finish -  75597 {'quality': 0.11735871804982936, 'lookback': 254}\n",
            "finish -  75697 {'quality': -0.035914541199087324, 'lookback': 283}\n",
            "finish -  75797 {'quality': -0.14421859414884852, 'lookback': 262}\n",
            "finish -  75897 {'quality': 0.24919868830776215, 'lookback': 266}\n",
            "finish -  75997 {'quality': -0.03554259176123525, 'lookback': 277}\n",
            "finish -  76097 {'quality': 0.3191649719451044, 'lookback': 259}\n",
            "finish -  76197 {'quality': 0.4033249288136259, 'lookback': 261}\n",
            "finish -  76297 {'quality': 0.0916245660497064, 'lookback': 272}\n",
            "finish -  76397 {'quality': 0.1746967706595206, 'lookback': 264}\n",
            "finish -  76497 {'quality': 0.05793072414038063, 'lookback': 275}\n",
            "finish -  76597 {'quality': -0.12178886218400792, 'lookback': 273}\n",
            "finish -  76697 {'quality': -0.008450441054767457, 'lookback': 274}\n",
            "finish -  76797 {'quality': 0.0286464600561554, 'lookback': 240}\n",
            "finish -  76897 {'quality': 0.01789455408613161, 'lookback': 259}\n",
            "finish -  76997 {'quality': 0.1864025093646343, 'lookback': 230}\n",
            "finish -  77097 {'quality': 0.20899809042097545, 'lookback': 229}\n",
            "finish -  77197 {'quality': -0.020807131171980964, 'lookback': 247}\n",
            "finish -  77297 {'quality': -0.005813204422865537, 'lookback': 231}\n",
            "finish -  77397 {'quality': 0.3778260811821259, 'lookback': 267}\n",
            "finish -  77497 {'quality': -0.1566698138563164, 'lookback': 248}\n",
            "finish -  77597 {'quality': 0.05793072414038074, 'lookback': 270}\n",
            "finish -  77697 {'quality': -0.060239672747821146, 'lookback': 262}\n",
            "finish -  77797 {'quality': 0.12444807159291316, 'lookback': 228}\n",
            "finish -  77897 {'quality': -0.37928894454883344, 'lookback': 243}\n",
            "finish -  77997 {'quality': -0.17898785178016452, 'lookback': 234}\n",
            "finish -  78097 {'quality': 0.04500934679116961, 'lookback': 277}\n",
            "finish -  78197 {'quality': 0.423061324261988, 'lookback': 264}\n",
            "finish -  78297 {'quality': -0.08328852136386142, 'lookback': 272}\n",
            "finish -  78397 {'quality': 0.10128417751185226, 'lookback': 232}\n",
            "finish -  78497 {'quality': -0.11627896418161987, 'lookback': 243}\n",
            "finish -  78597 {'quality': -0.00017781350855625155, 'lookback': 260}\n",
            "finish -  78697 {'quality': -0.08555998799981024, 'lookback': 242}\n",
            "finish -  78797 {'quality': -0.14465815619794029, 'lookback': 235}\n",
            "finish -  78897 {'quality': -0.10153327192709471, 'lookback': 251}\n",
            "finish -  78997 {'quality': -0.14770844366808625, 'lookback': 284}\n",
            "finish -  79097 {'quality': -0.06590872578203394, 'lookback': 221}\n",
            "finish -  79197 {'quality': -0.2841837267247308, 'lookback': 218}\n",
            "finish -  79297 {'quality': -0.052498100045906826, 'lookback': 255}\n",
            "finish -  79397 {'quality': 0.02440597545549522, 'lookback': 229}\n",
            "finish -  79497 {'quality': 0.2931754541306444, 'lookback': 248}\n",
            "finish -  79597 {'quality': -0.05662959564431924, 'lookback': 246}\n",
            "finish -  79697 {'quality': -0.07001789821152127, 'lookback': 215}\n",
            "finish -  79797 {'quality': 0.6176760936857092, 'lookback': 228}\n",
            "finish -  79897 {'quality': 0.49066471976224646, 'lookback': 209}\n",
            "finish -  79997 {'quality': 0.33476491753282706, 'lookback': 284}\n",
            "finish -  80097 {'quality': 0.0787797918064434, 'lookback': 292}\n",
            "finish -  80197 {'quality': -0.07017347495647738, 'lookback': 292}\n",
            "finish -  80297 {'quality': 0.16025569800950468, 'lookback': 283}\n",
            "finish -  80397 {'quality': 0.14075430070832243, 'lookback': 226}\n",
            "finish -  80497 {'quality': 0.4789750884209955, 'lookback': 243}\n",
            "finish -  80597 {'quality': 0.04336140344837314, 'lookback': 216}\n",
            "finish -  80697 {'quality': 0.45160117421336765, 'lookback': 247}\n",
            "finish -  80797 {'quality': -0.09254984213761938, 'lookback': 208}\n",
            "finish -  80897 {'quality': -0.09351372168431471, 'lookback': 210}\n",
            "finish -  80997 {'quality': 0.17532264085637458, 'lookback': 291}\n",
            "finish -  81097 {'quality': 0.1912660271728968, 'lookback': 237}\n",
            "finish -  81197 {'quality': 0.5560831124829898, 'lookback': 223}\n",
            "finish -  81297 {'quality': 0.06884948365137085, 'lookback': 220}\n",
            "finish -  81397 {'quality': 0.1300691561471372, 'lookback': 241}\n",
            "finish -  81497 {'quality': -0.12151918652009937, 'lookback': 234}\n",
            "finish -  81597 {'quality': 0.22630355735213903, 'lookback': 221}\n",
            "finish -  81697 {'quality': -0.029894063434041204, 'lookback': 218}\n",
            "finish -  81797 {'quality': 0.13241438931381241, 'lookback': 251}\n",
            "finish -  81897 {'quality': 0.019568518310580832, 'lookback': 279}\n",
            "finish -  81997 {'quality': -0.07706761058665146, 'lookback': 221}\n",
            "finish -  82097 {'quality': 0.12411213046705394, 'lookback': 212}\n",
            "finish -  82197 {'quality': -0.0007369421515883434, 'lookback': 309}\n",
            "finish -  82297 {'quality': -0.21988092056282232, 'lookback': 219}\n",
            "finish -  82397 {'quality': -0.43252437904621904, 'lookback': 217}\n",
            "finish -  82497 {'quality': -0.5512959461655902, 'lookback': 219}\n",
            "finish -  82597 {'quality': 0.08068641600594584, 'lookback': 248}\n",
            "finish -  82697 {'quality': 0.22625910707830055, 'lookback': 222}\n",
            "finish -  82797 {'quality': 0.1537722890407558, 'lookback': 235}\n",
            "finish -  82897 {'quality': 0.5720279889433134, 'lookback': 299}\n",
            "finish -  82997 {'quality': 0.20615488734233253, 'lookback': 207}\n",
            "finish -  83097 {'quality': 0.0019403583402055058, 'lookback': 243}\n",
            "finish -  83197 {'quality': 0.018734484257269007, 'lookback': 248}\n",
            "finish -  83297 {'quality': 0.47157552278030573, 'lookback': 209}\n",
            "finish -  83397 {'quality': -0.07945190099206448, 'lookback': 239}\n",
            "finish -  83497 {'quality': 0.06672247622064184, 'lookback': 237}\n",
            "finish -  83597 {'quality': -0.8850113438587117, 'lookback': 291}\n",
            "finish -  83697 {'quality': -0.26723921174746496, 'lookback': 250}\n",
            "finish -  83797 {'quality': 0.43768379479598823, 'lookback': 230}\n",
            "finish -  83897 {'quality': 0.03969666514498338, 'lookback': 290}\n",
            "finish -  83997 {'quality': -0.27268423892872073, 'lookback': 228}\n",
            "finish -  84097 {'quality': -0.4795508362570047, 'lookback': 234}\n",
            "finish -  84197 {'quality': 0.004478562371061617, 'lookback': 233}\n",
            "finish -  84297 {'quality': 0.052534212297328825, 'lookback': 201}\n",
            "finish -  84397 {'quality': 0.1853579957682337, 'lookback': 224}\n",
            "finish -  84497 {'quality': 0.4631486801043402, 'lookback': 233}\n",
            "finish -  84597 {'quality': 0.03767580398024946, 'lookback': 204}\n",
            "finish -  84697 {'quality': -0.19898976384116937, 'lookback': 244}\n",
            "finish -  84797 {'quality': 0.07348798174028291, 'lookback': 230}\n",
            "finish -  84897 {'quality': 0.15696775958875192, 'lookback': 218}\n",
            "finish -  84997 {'quality': 0.5255314377090732, 'lookback': 237}\n",
            "finish -  85097 {'quality': 0.18061967855608785, 'lookback': 220}\n",
            "finish -  85197 {'quality': 0.6416261179260834, 'lookback': 217}\n",
            "finish -  85297 {'quality': 0.3726434255255536, 'lookback': 222}\n",
            "finish -  85397 {'quality': 0.03600613890779894, 'lookback': 216}\n",
            "finish -  85497 {'quality': 0.09304924076269003, 'lookback': 227}\n",
            "finish -  85597 {'quality': -0.19605364889608412, 'lookback': 212}\n",
            "finish -  85697 {'quality': -0.3160000086898347, 'lookback': 215}\n",
            "finish -  85797 {'quality': 0.1477167746980046, 'lookback': 218}\n",
            "finish -  85897 {'quality': -0.16809892386752184, 'lookback': 247}\n",
            "finish -  85997 {'quality': 0.011812790056874078, 'lookback': 198}\n",
            "finish -  86097 {'quality': -0.2030429812164744, 'lookback': 238}\n",
            "finish -  86197 {'quality': -0.4413713118957108, 'lookback': 232}\n",
            "finish -  86297 {'quality': 0.05009094714286247, 'lookback': 264}\n",
            "finish -  86397 {'quality': 0.5820452501778792, 'lookback': 243}\n",
            "finish -  86497 {'quality': 0.0795819950752224, 'lookback': 237}\n",
            "finish -  86597 {'quality': 0.09610456533925693, 'lookback': 256}\n",
            "finish -  86697 {'quality': -0.24276239218821488, 'lookback': 232}\n",
            "finish -  86797 {'quality': -0.1320794455396505, 'lookback': 263}\n",
            "finish -  86897 {'quality': 0.0026320843547917028, 'lookback': 240}\n",
            "finish -  86997 {'quality': 0.020367897044181016, 'lookback': 228}\n",
            "finish -  87097 {'quality': -0.13297141624582348, 'lookback': 231}\n",
            "finish -  87197 {'quality': 0.10983861887596783, 'lookback': 251}\n",
            "finish -  87297 {'quality': 0.133700277074716, 'lookback': 192}\n",
            "finish -  87397 {'quality': -0.07024272149908439, 'lookback': 249}\n",
            "finish -  87497 {'quality': 0.06086747081821202, 'lookback': 266}\n",
            "finish -  87597 {'quality': 0.10198282571663868, 'lookback': 238}\n",
            "finish -  87697 {'quality': 0.32669097819381676, 'lookback': 254}\n",
            "finish -  87797 {'quality': 0.008359212437549002, 'lookback': 243}\n",
            "finish -  87897 {'quality': 0.15213089914271116, 'lookback': 272}\n",
            "finish -  87997 {'quality': 0.2888378459613494, 'lookback': 271}\n",
            "finish -  88097 {'quality': -0.06427654507340957, 'lookback': 267}\n",
            "finish -  88197 {'quality': 0.09227964253017784, 'lookback': 274}\n",
            "finish -  88297 {'quality': -0.40634992787986046, 'lookback': 273}\n",
            "finish -  88397 {'quality': 0.011894033504766366, 'lookback': 271}\n",
            "finish -  88497 {'quality': -0.3058693392984712, 'lookback': 264}\n",
            "finish -  88597 {'quality': 0.1683271376506803, 'lookback': 286}\n",
            "finish -  88697 {'quality': 0.023024926132253473, 'lookback': 253}\n",
            "finish -  88797 {'quality': -0.0038681411903931373, 'lookback': 268}\n",
            "finish -  88897 {'quality': 0.0922796425301805, 'lookback': 244}\n",
            "finish -  88997 {'quality': 0.2990609032319999, 'lookback': 258}\n",
            "finish -  89097 {'quality': -0.09274638681857278, 'lookback': 254}\n"
          ],
          "name": "stdout"
        },
        {
          "output_type": "error",
          "ename": "KeyboardInterrupt",
          "evalue": "ignored",
          "traceback": [
            "\u001b[0;31m---------------------------------------------------------------------------\u001b[0m",
            "\u001b[0;31mKeyboardInterrupt\u001b[0m                         Traceback (most recent call last)",
            "\u001b[0;32m<ipython-input-77-0335c01a60c6>\u001b[0m in \u001b[0;36m<module>\u001b[0;34m()\u001b[0m\n\u001b[1;32m      2\u001b[0m     \u001b[0mmodelGA\u001b[0m\u001b[0;34m.\u001b[0m\u001b[0mfit\u001b[0m\u001b[0;34m(\u001b[0m\u001b[0;36m100\u001b[0m\u001b[0;34m,\u001b[0m\u001b[0mecho_time\u001b[0m\u001b[0;34m=\u001b[0m\u001b[0;36m60\u001b[0m\u001b[0;34m)\u001b[0m\u001b[0;34m\u001b[0m\u001b[0;34m\u001b[0m\u001b[0m\n\u001b[1;32m      3\u001b[0m     \u001b[0;32mwith\u001b[0m \u001b[0mopen\u001b[0m\u001b[0;34m(\u001b[0m\u001b[0mfn\u001b[0m\u001b[0;34m,\u001b[0m\u001b[0;34m'wb'\u001b[0m\u001b[0;34m)\u001b[0m \u001b[0;32mas\u001b[0m \u001b[0mfp\u001b[0m\u001b[0;34m:\u001b[0m\u001b[0;34m\u001b[0m\u001b[0;34m\u001b[0m\u001b[0m\n\u001b[0;32m----> 4\u001b[0;31m         \u001b[0mpickle\u001b[0m\u001b[0;34m.\u001b[0m\u001b[0mdump\u001b[0m\u001b[0;34m(\u001b[0m\u001b[0mmodelGA\u001b[0m\u001b[0;34m,\u001b[0m\u001b[0mfp\u001b[0m\u001b[0;34m)\u001b[0m\u001b[0;34m\u001b[0m\u001b[0;34m\u001b[0m\u001b[0m\n\u001b[0m",
            "\u001b[0;31mKeyboardInterrupt\u001b[0m: "
          ]
        }
      ]
    },
    {
      "cell_type": "markdown",
      "metadata": {
        "id": "5YPTQraxAz68"
      },
      "source": [
        "## Графики"
      ]
    },
    {
      "cell_type": "code",
      "metadata": {
        "id": "_kxxyNJg0kcx",
        "outputId": "83a764ba-2f8e-4bdf-d2c8-f619dc0b0a0b",
        "colab": {
          "base_uri": "https://localhost:8080/",
          "height": 763
        }
      },
      "source": [
        "modelGA.plot_hist_new(('quality','lookback'))\n"
      ],
      "execution_count": 78,
      "outputs": [
        {
          "output_type": "display_data",
          "data": {
            "image/png": "[encoded data removed]",
            "text/plain": [
              "<Figure size 720x432 with 1 Axes>"
            ]
          },
          "metadata": {
            "tags": [],
            "needs_background": "light"
          }
        },
        {
          "output_type": "display_data",
          "data": {
            "image/png": "[encoded data removed]",
            "text/plain": [
              "<Figure size 720x432 with 1 Axes>"
            ]
          },
          "metadata": {
            "tags": [],
            "needs_background": "light"
          }
        }
      ]
    },
    {
      "cell_type": "markdown",
      "metadata": {
        "id": "dOVxoPS2A9zM"
      },
      "source": [
        "## Параметры лучшей"
      ]
    },
    {
      "cell_type": "code",
      "metadata": {
        "id": "uQvWLMl8BIz3",
        "outputId": "09640ce7-27e4-4c4c-ba8e-a02357866ea2",
        "colab": {
          "base_uri": "https://localhost:8080/"
        }
      },
      "source": [
        "best_par = modelGA.getBestParams()\n",
        "best_par"
      ],
      "execution_count": 79,
      "outputs": [
        {
          "output_type": "execute_result",
          "data": {
            "text/plain": [
              "{'lookback': 262}"
            ]
          },
          "metadata": {
            "tags": []
          },
          "execution_count": 79
        }
      ]
    },
    {
      "cell_type": "markdown",
      "metadata": {
        "id": "QXs9fG-7AVnc"
      },
      "source": [
        "# Прогон лучшей"
      ]
    },
    {
      "cell_type": "code",
      "metadata": {
        "id": "KqfvOShK_NQY",
        "outputId": "d1ab3721-d7e2-47b0-b462-14d436acf6b4",
        "colab": {
          "base_uri": "https://localhost:8080/"
        }
      },
      "source": [
        "lookback_best = best_par['lookback']\n",
        "lag_best = 10\n",
        "\n",
        "s_best = bt.Strategy('лучший', [bt.algos.RunEveryNPeriods(lag_best,offset=lag_best*2+lookback_best+1),\n",
        "                                bt.algos.SelectAll(),\n",
        "                                bt.algos.WeighMeanVar(lookback=pd.DateOffset(days=lookback_best)),\n",
        "                                bt.algos.Rebalance()])\n",
        "test_best = bt.Backtest(s_best, data)\n",
        "\n",
        "s0 = bt.Strategy('равновесный', [bt.algos.RunEveryNPeriods(lag_best,offset=lag_best*2+lookback_best+1),\n",
        "                                 bt.algos.SelectAll(),\n",
        "                                 bt.algos.WeighEqually(),\n",
        "                                 bt.algos.Rebalance()])\n",
        "test0 = bt.Backtest(s0, data)\n",
        "\n",
        "res_best = bt.run(test_best,test0)"
      ],
      "execution_count": 80,
      "outputs": [
        {
          "output_type": "stream",
          "text": [
            "лучший\n",
            "0% [############################# ] 100% | ETA: 00:00:00равновесный\n",
            "0% [############################# ] 100% | ETA: 00:00:00"
          ],
          "name": "stdout"
        }
      ]
    },
    {
      "cell_type": "markdown",
      "metadata": {
        "id": "FLfQKr5pkXm7"
      },
      "source": [
        "## График баланса"
      ]
    },
    {
      "cell_type": "code",
      "metadata": {
        "id": "uTsOLiRBDMAO",
        "outputId": "e2af7ba9-98f7-473e-917b-5dec1e2bcb19",
        "colab": {
          "base_uri": "https://localhost:8080/",
          "height": 337
        }
      },
      "source": [
        "res_best.plot()"
      ],
      "execution_count": 81,
      "outputs": [
        {
          "output_type": "execute_result",
          "data": {
            "text/plain": [
              "<matplotlib.axes._subplots.AxesSubplot at 0x7f5253111518>"
            ]
          },
          "metadata": {
            "tags": []
          },
          "execution_count": 81
        },
        {
          "output_type": "display_data",
          "data": {
            "image/png": "[encoded data removed]",
            "text/plain": [
              "<Figure size 1080x360 with 1 Axes>"
            ]
          },
          "metadata": {
            "tags": [],
            "needs_background": "light"
          }
        }
      ]
    },
    {
      "cell_type": "markdown",
      "metadata": {
        "id": "-aKy990ckbKZ"
      },
      "source": [
        "## график распределения долей"
      ]
    },
    {
      "cell_type": "code",
      "metadata": {
        "id": "Iee9lbjm7mrP",
        "outputId": "94edfac8-0abc-4aa8-c8a8-09ed4287b26b",
        "colab": {
          "base_uri": "https://localhost:8080/",
          "height": 272
        }
      },
      "source": [
        "res_best.get_security_weights().plot()"
      ],
      "execution_count": 82,
      "outputs": [
        {
          "output_type": "execute_result",
          "data": {
            "text/plain": [
              "<matplotlib.axes._subplots.AxesSubplot at 0x7f52559341d0>"
            ]
          },
          "metadata": {
            "tags": []
          },
          "execution_count": 82
        },
        {
          "output_type": "display_data",
          "data": {
            "image/png": "[encoded data removed]",
            "text/plain": [
              "<Figure size 432x288 with 1 Axes>"
            ]
          },
          "metadata": {
            "tags": [],
            "needs_background": "light"
          }
        }
      ]
    },
    {
      "cell_type": "markdown",
      "metadata": {
        "id": "64tQ9DQMllER"
      },
      "source": [
        "## итог"
      ]
    },
    {
      "cell_type": "code",
      "metadata": {
        "id": "dKM_Tkt9DSnV",
        "outputId": "34f7b8b8-e8c5-4a50-cc28-dc18ed4e0bff",
        "colab": {
          "base_uri": "https://localhost:8080/"
        }
      },
      "source": [
        "res_best.display()"
      ],
      "execution_count": 83,
      "outputs": [
        {
          "output_type": "stream",
          "text": [
            "Stat                 лучший      равновесный\n",
            "-------------------  ----------  -------------\n",
            "Start                2010-01-03  2010-01-03\n",
            "End                  2020-11-04  2020-11-04\n",
            "Risk-free rate       0.00%       0.00%\n",
            "\n",
            "Total Return         2353.51%    432.16%\n",
            "Daily Sharpe         1.06        0.68\n",
            "Daily Sortino        1.77        1.09\n",
            "CAGR                 34.35%      16.68%\n",
            "Max Drawdown         -44.22%     -52.45%\n",
            "Calmar Ratio         0.78        0.32\n",
            "\n",
            "MTD                  12.91%      5.32%\n",
            "3m                   32.23%      17.30%\n",
            "6m                   114.87%     76.16%\n",
            "YTD                  113.66%     46.65%\n",
            "1Y                   152.92%     64.72%\n",
            "3Y (ann.)            39.64%      28.83%\n",
            "5Y (ann.)            48.94%      28.97%\n",
            "10Y (ann.)           37.71%      18.19%\n",
            "Since Incep. (ann.)  34.35%      16.68%\n",
            "\n",
            "Daily Sharpe         1.06        0.68\n",
            "Daily Sortino        1.77        1.09\n",
            "Daily Mean (ann.)    34.93%      19.67%\n",
            "Daily Vol (ann.)     32.82%      29.09%\n",
            "Daily Skew           0.27        -0.03\n",
            "Daily Kurt           9.58        8.75\n",
            "Best Day             19.95%      13.66%\n",
            "Worst Day            -14.77%     -14.07%\n",
            "\n",
            "Monthly Sharpe       1.13        0.70\n",
            "Monthly Sortino      3.04        1.47\n",
            "Monthly Mean (ann.)  34.13%      19.11%\n",
            "Monthly Vol (ann.)   30.27%      27.34%\n",
            "Monthly Skew         1.09        0.61\n",
            "Monthly Kurt         2.64        1.46\n",
            "Best Month           37.60%      31.95%\n",
            "Worst Month          -21.45%     -18.10%\n",
            "\n",
            "Yearly Sharpe        1.05        0.58\n",
            "Yearly Sortino       11.05       2.04\n",
            "Yearly Mean          42.99%      24.81%\n",
            "Yearly Vol           41.14%      42.65%\n",
            "Yearly Skew          0.44        0.42\n",
            "Yearly Kurt          -0.47       -0.56\n",
            "Best Year            113.66%     91.97%\n",
            "Worst Year           -9.63%      -36.78%\n",
            "\n",
            "Avg. Drawdown        -5.91%      -5.86%\n",
            "Avg. Drawdown Days   41.00       60.50\n",
            "Avg. Up Month        8.41%       7.02%\n",
            "Avg. Down Month      -3.86%      -4.36%\n",
            "Win Year %           80.00%      70.00%\n",
            "Win 12m %            80.00%      64.17%\n"
          ],
          "name": "stdout"
        }
      ]
    },
    {
      "cell_type": "markdown",
      "metadata": {
        "id": "6yBIHPEcfIgf"
      },
      "source": [
        "Енин А.В.\n",
        "\n",
        "Оренбург"
      ]
    }
  ]
}